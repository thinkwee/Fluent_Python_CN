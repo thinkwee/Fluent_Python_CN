{
 "cells": [
  {
   "cell_type": "markdown",
   "metadata": {},
   "source": [
    "## 接口：从协议到抽象基类"
   ]
  },
  {
   "cell_type": "markdown",
   "metadata": {},
   "source": [
    "## 鸭子类型和白鹅类型\n",
    "- 鸭子类型：忽略对象的真正类型，转而关注对象有没有实现所需的方法、签名和语义\n",
    "- 白鹅类型：只要cls是抽象基类，即cls的元素是abc.ABCMeta，就可以使用isinstance(obj,cls)"
   ]
  },
  {
   "cell_type": "markdown",
   "metadata": {},
   "source": [
    "## 接口和协议\n",
    "- 我们把协议定义为非正式的接口\n",
    "- 关于接口的一个实用的补充定义：对象公开方法的子集\n",
    "- 对于Python程序员来说，某类对象、某协议、某接口都是一个意思"
   ]
  },
  {
   "cell_type": "markdown",
   "metadata": {},
   "source": [
    "## 序列\n",
    "- Python数据模型的哲学十尽量支持基本协议\n",
    "- 对于序列来说，即便是最基本的实现，PYthon也会力求做到最好\n",
    "- 例如某个类只定义了```__getitem```方法，也足以支持访问、迭代、和支持in运算符"
   ]
  },
  {
   "cell_type": "code",
   "execution_count": 8,
   "metadata": {},
   "outputs": [],
   "source": [
    "class Foo:\n",
    "    def __getitem__(self, pos):\n",
    "        return range(0, 30, 10)[pos]"
   ]
  },
  {
   "cell_type": "code",
   "execution_count": 9,
   "metadata": {},
   "outputs": [
    {
     "data": {
      "text/plain": [
       "10"
      ]
     },
     "execution_count": 9,
     "metadata": {},
     "output_type": "execute_result"
    }
   ],
   "source": [
    "f = Foo()\n",
    "f[1]"
   ]
  },
  {
   "cell_type": "code",
   "execution_count": 10,
   "metadata": {},
   "outputs": [
    {
     "name": "stdout",
     "output_type": "stream",
     "text": [
      "0\n",
      "10\n",
      "20\n"
     ]
    }
   ],
   "source": [
    "for i in f:\n",
    "    print(i)"
   ]
  },
  {
   "cell_type": "code",
   "execution_count": 11,
   "metadata": {},
   "outputs": [
    {
     "data": {
      "text/plain": [
       "True"
      ]
     },
     "execution_count": 11,
     "metadata": {},
     "output_type": "execute_result"
    }
   ],
   "source": [
    "20 in f"
   ]
  },
  {
   "cell_type": "markdown",
   "metadata": {},
   "source": [
    "## 使用猴子补丁在运行时实现协议\n",
    "- 我们为了使之前的FrenchDeck类支持shuffle运算，需要实现可变的序列协议并实现```__setitem__```方法\n",
    "- 我们甚至可以使用猴子补丁，在运行时实现协议"
   ]
  },
  {
   "cell_type": "code",
   "execution_count": 12,
   "metadata": {},
   "outputs": [],
   "source": [
    "from random import shuffle\n",
    "import collections"
   ]
  },
  {
   "cell_type": "code",
   "execution_count": 15,
   "metadata": {},
   "outputs": [],
   "source": [
    "Card = collections.namedtuple('Card', ['rank', 'suit'])"
   ]
  },
  {
   "cell_type": "code",
   "execution_count": 16,
   "metadata": {},
   "outputs": [],
   "source": [
    "class FrenchDeck2(collections.MutableSequence):\n",
    "    ranks = [str(n) for n in range(2, 11)] + list('JQKA')\n",
    "    suits = 'spades diamonds clubs hearts'.split()\n",
    "\n",
    "    def __init__(self):\n",
    "        self._cards = [\n",
    "            Card(rank, suit) for suit in self.suits for rank in self.ranks\n",
    "        ]\n",
    "\n",
    "    def __len__(self):\n",
    "        return len(self._cards)\n",
    "\n",
    "    def __getitem__(self, position):\n",
    "        return self._cards[position]\n",
    "\n",
    "    def __setitem__(self, position, value):  # <1>\n",
    "        self._cards[position] = value\n",
    "\n",
    "    def __delitem__(self, position):  # <2>\n",
    "        del self._cards[position]\n",
    "\n",
    "    def insert(self, position, value):  # <3>\n",
    "        self._cards.insert(position, value)"
   ]
  },
  {
   "cell_type": "code",
   "execution_count": 17,
   "metadata": {},
   "outputs": [
    {
     "name": "stdout",
     "output_type": "stream",
     "text": [
      "[Card(rank='2', suit='spades'), Card(rank='3', suit='spades'), Card(rank='4', suit='spades'), Card(rank='5', suit='spades'), Card(rank='6', suit='spades')]\n",
      "[Card(rank='8', suit='hearts'), Card(rank='4', suit='clubs'), Card(rank='A', suit='clubs'), Card(rank='3', suit='diamonds'), Card(rank='J', suit='diamonds')]\n"
     ]
    }
   ],
   "source": [
    "deck = FrenchDeck2()\n",
    "print(deck[:5])\n",
    "shuffle(deck)\n",
    "print(deck[:5])"
   ]
  },
  {
   "cell_type": "markdown",
   "metadata": {},
   "source": [
    "## 抽象基类\n",
    "- collections.abc中定义了16个抽象基类\n",
    "    - 各个集合应该继承三个抽象基类:Iterable，Container和Sized，分别支持迭代、in运算符和len函数\n",
    "    - 三个主要的不可变集合类型：Sequence、Mapping和Set，且各自又可变的子类(名字上加一个Mutable前缀）\n",
    "    - MappingView，派生出ItemsView,KeysView,ValuesView，分别是.items(),.keys()和.values()方法对象对应的类，前两者还从Set类继承了丰富的接口\n",
    "    - Callable和Hashable，为内置函数isinstance提供支持，以一种安全的方式判断对象是否可以调用或者散列\n",
    "    - Iterator，见14章\n",
    "- numbers的数字塔：\n",
    "    - Number->Complex->Real->Rational->Integral"
   ]
  },
  {
   "cell_type": "markdown",
   "metadata": {},
   "source": [
    "## 自定义一个抽象基类\n",
    "- 代码见[fluentpython/example-code/11-iface-abc](https://github.com/fluentpython/example-code/tree/master/11-iface-abc)\n",
    "- 定义一个抽象基类Tombola，实现两个抽象方法load和pick，两个具体方法loaded和inspect\n",
    "- 子类必须要实现抽象方法，可以增加方法，如BingoCage，也可以覆盖具体方法，如LotteryBlower\n",
    "- 可以通过register方法（装饰）注册虚拟子类，虚拟子类可以继承自其他父类，如TomboList，通过@Tombola.register注册为Tombola的虚拟子类但继承自List，且isinstance和issubclass方法认为Tombolist是Tombola的子类。通过```__mro__```可以查看到Tombolist的真实超类。虚拟子类的好处在于开发时不需要了解抽象基类，更不用继承抽象基类，打破了严格的强耦合，我们可以只继承父类的部分方法"
   ]
  },
  {
   "cell_type": "markdown",
   "metadata": {},
   "source": [
    "## 鹅的行为有可能像鸭子\n",
    "- 即便不注册，抽象基类也能把一个类识别为虚拟子类，只要子类实现了一些特殊方法\n",
    "- 抽象基类通过```__subclasshook__```实现此功能\n",
    "- ```__subclasshook__```在白鹅类型中添加了一些鸭子类型的踪迹"
   ]
  }
 ],
 "metadata": {
  "kernelspec": {
   "display_name": "Python 3",
   "language": "python",
   "name": "python3"
  },
  "language_info": {
   "codemirror_mode": {
    "name": "ipython",
    "version": 3
   },
   "file_extension": ".py",
   "mimetype": "text/x-python",
   "name": "python",
   "nbconvert_exporter": "python",
   "pygments_lexer": "ipython3",
   "version": "3.7.1"
  },
  "latex_envs": {
   "LaTeX_envs_menu_present": true,
   "autoclose": false,
   "autocomplete": true,
   "bibliofile": "biblio.bib",
   "cite_by": "apalike",
   "current_citInitial": 1,
   "eqLabelWithNumbers": true,
   "eqNumInitial": 1,
   "hotkeys": {
    "equation": "Ctrl-E",
    "itemize": "Ctrl-I"
   },
   "labels_anchors": false,
   "latex_user_defs": false,
   "report_style_numbering": false,
   "user_envs_cfg": false
  }
 },
 "nbformat": 4,
 "nbformat_minor": 2
}
