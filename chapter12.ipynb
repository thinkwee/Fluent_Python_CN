{
 "cells": [
  {
   "cell_type": "markdown",
   "metadata": {},
   "source": [
    "# 继承的优缺点"
   ]
  },
  {
   "cell_type": "markdown",
   "metadata": {},
   "source": [
    "## 不建议子类化内置类型\n",
    "- 因为内置类型不会调用定义的类的覆盖的特殊方法，且定义的类继承的方法，也不会调用被覆盖的方法\n",
    "- 建议继承collections模块，比如UserDict、UserList和UsesrString，这些类做了特殊设计易于扩展"
   ]
  },
  {
   "cell_type": "markdown",
   "metadata": {},
   "source": [
    "## 多重继承和方法解析顺序\n",
    "- A是父类，B和C都继承了A，D继承了B,C。那么调用方法的优先顺序如何确定？"
   ]
  },
  {
   "cell_type": "code",
   "execution_count": 1,
   "metadata": {},
   "outputs": [],
   "source": [
    "class A:\n",
    "    def ping(self):\n",
    "        print('ping:', self)\n",
    "\n",
    "\n",
    "class B(A):\n",
    "    def pong(self):\n",
    "        print('pong:', self)\n",
    "\n",
    "\n",
    "class C(A):\n",
    "    def pong(self):\n",
    "        print('PONG:', self)\n",
    "\n",
    "\n",
    "class D(B, C):\n",
    "    def ping(self):\n",
    "        super().ping()\n",
    "        print('post-ping:', self)\n",
    "\n",
    "    def pingpong(self):\n",
    "        self.ping()\n",
    "        super().ping()\n",
    "        self.pong()\n",
    "        super().pong()\n",
    "        C.pong(self)"
   ]
  },
  {
   "cell_type": "markdown",
   "metadata": {},
   "source": [
    "# 在D上调用pong方法\n",
    "- D没有实现pong方法，因此得从B和C中选择一个类，运行它的pong方法，测试发现是B\n",
    "- 也可以指定运行C的pong方法"
   ]
  },
  {
   "cell_type": "code",
   "execution_count": 2,
   "metadata": {},
   "outputs": [],
   "source": [
    "d = D()"
   ]
  },
  {
   "cell_type": "code",
   "execution_count": 3,
   "metadata": {},
   "outputs": [
    {
     "name": "stdout",
     "output_type": "stream",
     "text": [
      "pong: <__main__.D object at 0x000002AE924D1748>\n"
     ]
    }
   ],
   "source": [
    "d.pong()"
   ]
  },
  {
   "cell_type": "code",
   "execution_count": 4,
   "metadata": {},
   "outputs": [
    {
     "name": "stdout",
     "output_type": "stream",
     "text": [
      "PONG: <__main__.D object at 0x000002AE924D1748>\n"
     ]
    }
   ],
   "source": [
    "C.pong(d)"
   ]
  },
  {
   "cell_type": "markdown",
   "metadata": {},
   "source": [
    "## 使用super\n",
    "- 使用super()来调用超类方法最安全，如D的ping方法中就先调用了A的ping方法，super()跳过了B和C，因为B和C都没有实现ping方法\n",
    "- 使用```__mro__```属性可以查看方法解析顺序(Method Resolution Order，MRO），按照方法解析顺序列出各个超类"
   ]
  },
  {
   "cell_type": "code",
   "execution_count": 5,
   "metadata": {},
   "outputs": [
    {
     "name": "stdout",
     "output_type": "stream",
     "text": [
      "ping: <__main__.D object at 0x000002AE924D1748>\n",
      "post-ping: <__main__.D object at 0x000002AE924D1748>\n"
     ]
    }
   ],
   "source": [
    "d.ping()"
   ]
  },
  {
   "cell_type": "code",
   "execution_count": 7,
   "metadata": {},
   "outputs": [
    {
     "name": "stdout",
     "output_type": "stream",
     "text": [
      "(<class '__main__.D'>, <class '__main__.B'>, <class '__main__.C'>, <class '__main__.A'>, <class 'object'>)\n"
     ]
    }
   ],
   "source": [
    "print(D.__mro__)"
   ]
  },
  {
   "cell_type": "markdown",
   "metadata": {},
   "source": [
    "## 在D上调用pingpong方法，观察调用\n",
    "- self.ping()调用的是D的ping方法，该方法先调用super().ping()，即A的ping方法，再输出一行\n",
    "- super().ping()，同上，直接调用A的ping方法\n",
    "- self.pong()，调用的是B的pong()方法\n",
    "- super().pong()，调用的是B的pong()方法，和上面一样，都是按照方法解析顺序查找的\n",
    "- C.pong(self)，忽略mro，直接运行C的pong()方法\n",
    "- **mro不仅考虑继承图，也考虑子类声明中列出超类的顺序，例如如果D的声明为class D(C,B)，则在mro中C就在B的前面**"
   ]
  },
  {
   "cell_type": "code",
   "execution_count": 8,
   "metadata": {},
   "outputs": [
    {
     "name": "stdout",
     "output_type": "stream",
     "text": [
      "ping: <__main__.D object at 0x000002AE924D1748>\n",
      "post-ping: <__main__.D object at 0x000002AE924D1748>\n",
      "ping: <__main__.D object at 0x000002AE924D1748>\n",
      "pong: <__main__.D object at 0x000002AE924D1748>\n",
      "pong: <__main__.D object at 0x000002AE924D1748>\n",
      "PONG: <__main__.D object at 0x000002AE924D1748>\n"
     ]
    }
   ],
   "source": [
    "d.pingpong()"
   ]
  },
  {
   "cell_type": "markdown",
   "metadata": {},
   "source": [
    "## 处理多重继承的建议\n",
    "- 把接口继承和实现继承区分开\n",
    "- 使用抽象基类显式表示接口\n",
    "- 通过混入重用代码\n",
    "- 在名称中明确指明混入\n",
    "- 抽象基类可以作为混入，反过来不成立\n",
    "- 不要子类化多个具体类\n",
    "- 为用户提供聚合类"
   ]
  }
 ],
 "metadata": {
  "kernelspec": {
   "display_name": "Python 3",
   "language": "python",
   "name": "python3"
  },
  "language_info": {
   "codemirror_mode": {
    "name": "ipython",
    "version": 3
   },
   "file_extension": ".py",
   "mimetype": "text/x-python",
   "name": "python",
   "nbconvert_exporter": "python",
   "pygments_lexer": "ipython3",
   "version": "3.7.1"
  },
  "latex_envs": {
   "LaTeX_envs_menu_present": true,
   "autoclose": false,
   "autocomplete": true,
   "bibliofile": "biblio.bib",
   "cite_by": "apalike",
   "current_citInitial": 1,
   "eqLabelWithNumbers": true,
   "eqNumInitial": 1,
   "hotkeys": {
    "equation": "Ctrl-E",
    "itemize": "Ctrl-I"
   },
   "labels_anchors": false,
   "latex_user_defs": false,
   "report_style_numbering": false,
   "user_envs_cfg": false
  }
 },
 "nbformat": 4,
 "nbformat_minor": 2
}
