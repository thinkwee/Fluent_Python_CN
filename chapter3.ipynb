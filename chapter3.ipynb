{
 "cells": [
  {
   "cell_type": "code",
   "execution_count": null,
   "metadata": {},
   "outputs": [],
   "source": [
    "import re\n",
    "import sys\n",
    "import collections\n",
    "from types import MappingProxyType\n",
    "from unicodedata import name"
   ]
  },
  {
   "cell_type": "code",
   "execution_count": 2,
   "metadata": {},
   "outputs": [
    {
     "data": {
      "text/plain": [
       "'\\n    introduce:\\n        dictcomp\\n        default in dict\\n        userdict\\n        MappingProxyType\\n        sets\\n        setcomp        \\n'"
      ]
     },
     "execution_count": 2,
     "metadata": {},
     "output_type": "execute_result"
    }
   ],
   "source": [
    "'''\n",
    "    introduce:\n",
    "        dictcomp\n",
    "        default in dict\n",
    "        userdict\n",
    "        MappingProxyType\n",
    "        sets\n",
    "        setcomp        \n",
    "'''"
   ]
  },
  {
   "cell_type": "markdown",
   "metadata": {},
   "source": [
    "# dictcomp"
   ]
  },
  {
   "cell_type": "code",
   "execution_count": 3,
   "metadata": {},
   "outputs": [
    {
     "name": "stdout",
     "output_type": "stream",
     "text": [
      "{'China': 86, 'India': 91, 'US': 1}\n"
     ]
    }
   ],
   "source": [
    "dial_code = [(86, 'China'), (91, 'India'), (1, 'US')]\n",
    "country_code = {country: code for code, country in dial_code}\n",
    "print(country_code)"
   ]
  },
  {
   "cell_type": "markdown",
   "metadata": {},
   "source": [
    "set default in dict\n",
    "use defaultdict\n",
    "use special method __missing__"
   ]
  },
  {
   "cell_type": "code",
   "execution_count": null,
   "metadata": {},
   "outputs": [
    {
     "name": "stdout",
     "output_type": "stream",
     "text": [
      "two\n",
      "four\n",
      "two\n",
      "four\n",
      "default value\n",
      "True\n",
      "False\n"
     ]
    }
   ],
   "source": [
    "class StrKeyDict0(dict):\n",
    "    def __missing__(self, key):\n",
    "        if isinstance(key, str):\n",
    "            raise KeyError(key)\n",
    "        return self[str(key)]\n",
    "\n",
    "    def get(self, key, default=None):\n",
    "        try:\n",
    "            return self[key]\n",
    "        except KeyError:\n",
    "            return default\n",
    "\n",
    "    def __contains__(self, key):\n",
    "        return key in self.keys() or str(key) in self.keys()\n",
    "\n",
    "\n",
    "testdict0 = StrKeyDict0([('2', 'two'), ('4', 'four')])\n",
    "print(testdict0['2'])\n",
    "print(testdict0[4])\n",
    "# print(testdict0[1])\n",
    "print(testdict0.get('2'))\n",
    "print(testdict0.get(4))\n",
    "print(testdict0.get(1, 'default value'))\n",
    "print(2 in testdict0)\n",
    "print(1 in testdict0)"
   ]
  },
  {
   "cell_type": "markdown",
   "metadata": {},
   "source": [
    "# other dict in collections\n",
    "# collections.OrderedDict\n",
    "# collections.ChainMap\n",
    "# collections.Counter"
   ]
  },
  {
   "cell_type": "markdown",
   "metadata": {},
   "source": [
    "# use userdict"
   ]
  },
  {
   "cell_type": "code",
   "execution_count": 6,
   "metadata": {},
   "outputs": [],
   "source": [
    "class StrKetDict(collections.UserDict):\n",
    "    def __missing__(self, key):\n",
    "        if isinstance(key, str):\n",
    "            raise KeyError(key)\n",
    "        return self[str(key)]\n",
    "\n",
    "    def __contains__(self, item):\n",
    "        return str(item) in self.data\n",
    "\n",
    "    def __setitem__(self, key, value):\n",
    "        self.data[str(key)] = value\n",
    "\n",
    "    # some other useful method:Mapping.update,Mapping.get"
   ]
  },
  {
   "cell_type": "markdown",
   "metadata": {},
   "source": [
    "# immutable dict"
   ]
  },
  {
   "cell_type": "code",
   "execution_count": 7,
   "metadata": {},
   "outputs": [
    {
     "name": "stdout",
     "output_type": "stream",
     "text": [
      "{1: 'A'}\n",
      "A\n",
      "{1: 'A', 2: 'B'}\n"
     ]
    }
   ],
   "source": [
    "d = {1: 'A'}\n",
    "d_proxy = MappingProxyType(d)\n",
    "print(d_proxy)\n",
    "print(d_proxy[1])\n",
    "# d_proxy[2] = 'x'\n",
    "d[2] = 'B'\n",
    "print(d_proxy)"
   ]
  },
  {
   "cell_type": "markdown",
   "metadata": {},
   "source": [
    "# use sets to delete repetition"
   ]
  },
  {
   "cell_type": "code",
   "execution_count": 8,
   "metadata": {},
   "outputs": [
    {
     "name": "stdout",
     "output_type": "stream",
     "text": [
      "{'egg', 'spam'}\n"
     ]
    }
   ],
   "source": [
    "l = ['spam', 'spam', 'egg', 'spam']\n",
    "print(set(l))"
   ]
  },
  {
   "cell_type": "markdown",
   "metadata": {},
   "source": [
    "## support sets operation like a|b,a&b,a-b,a in b,a<=b,a<b,a>=b,a>b"
   ]
  },
  {
   "cell_type": "markdown",
   "metadata": {},
   "source": [
    "use set() to create a empty sets otherwise you will get a empty dict but you can use literal to create a non-empty set"
   ]
  },
  {
   "cell_type": "code",
   "execution_count": 9,
   "metadata": {},
   "outputs": [
    {
     "name": "stdout",
     "output_type": "stream",
     "text": [
      "{1}\n",
      "set()\n"
     ]
    }
   ],
   "source": [
    "s = {1}\n",
    "print(s)\n",
    "s.pop()\n",
    "print(s)"
   ]
  },
  {
   "cell_type": "markdown",
   "metadata": {},
   "source": [
    "# frozen set can not be created using literal"
   ]
  },
  {
   "cell_type": "code",
   "execution_count": 10,
   "metadata": {},
   "outputs": [
    {
     "name": "stdout",
     "output_type": "stream",
     "text": [
      "frozenset({0, 1, 2, 3, 4, 5, 6, 7, 8, 9})\n"
     ]
    }
   ],
   "source": [
    "print(frozenset(range(10)))\n"
   ]
  },
  {
   "cell_type": "markdown",
   "metadata": {},
   "source": [
    "# setcomps\n"
   ]
  },
  {
   "cell_type": "code",
   "execution_count": 11,
   "metadata": {},
   "outputs": [
    {
     "name": "stdout",
     "output_type": "stream",
     "text": [
      "{'>', '+', '<', '÷', '±', '=', '¢', 'µ', '£', '§', '×', '#', '%', '¬', '®', '$', '¶', '©', '°', '¥', '¤'}\n"
     ]
    }
   ],
   "source": [
    "print({chr(i) for i in range(32, 256) if 'SIGN' in name(chr(i), '')})\n"
   ]
  },
  {
   "cell_type": "code",
   "execution_count": null,
   "metadata": {},
   "outputs": [],
   "source": []
  }
 ],
 "metadata": {
  "kernelspec": {
   "display_name": "Python 3",
   "language": "python",
   "name": "python3"
  },
  "language_info": {
   "codemirror_mode": {
    "name": "ipython",
    "version": 3
   },
   "file_extension": ".py",
   "mimetype": "text/x-python",
   "name": "python",
   "nbconvert_exporter": "python",
   "pygments_lexer": "ipython3",
   "version": "3.6.4"
  }
 },
 "nbformat": 4,
 "nbformat_minor": 2
}
