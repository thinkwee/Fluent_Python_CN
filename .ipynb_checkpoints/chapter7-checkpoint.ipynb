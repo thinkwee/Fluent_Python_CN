{
 "cells": [
  {
   "cell_type": "markdown",
   "metadata": {},
   "source": [
    "# 第七章：函数装饰器和闭包"
   ]
  },
  {
   "cell_type": "markdown",
   "metadata": {},
   "source": [
    "## 装饰器用于在源码中标记函数，以某种方式增强函数\n",
    "- 装饰器是可调用的对象\n",
    "- 装饰器的写法只是一种语法糖\n",
    "- 装饰器接受待强化的函数（也可以是类）作为参数，返回强化的函数或可调用对象\n",
    "- 装饰器在加载模块时立即执行\n",
    "- 最简单的一个例子如下，我们直接替换了函数，而不是强化。deco返回一个函数，因此在其函数体内定义了要返回的函数"
   ]
  },
  {
   "cell_type": "code",
   "execution_count": 1,
   "metadata": {},
   "outputs": [],
   "source": [
    "import doctest"
   ]
  },
  {
   "cell_type": "code",
   "execution_count": 2,
   "metadata": {},
   "outputs": [
    {
     "name": "stdout",
     "output_type": "stream",
     "text": [
      "running inner()\n"
     ]
    },
    {
     "data": {
      "text/plain": [
       "<function __main__.deco.<locals>.inner()>"
      ]
     },
     "execution_count": 2,
     "metadata": {},
     "output_type": "execute_result"
    }
   ],
   "source": [
    "def deco(func):\n",
    "    def inner():\n",
    "        print('running inner()')\n",
    "\n",
    "    return inner\n",
    "\n",
    "\n",
    "@deco\n",
    "def target():\n",
    "    print('running target()')\n",
    "\n",
    "\n",
    "target()\n",
    "target"
   ]
  },
  {
   "cell_type": "markdown",
   "metadata": {},
   "source": [
    "## 装饰器在被装饰的函数定义之后立即运行"
   ]
  },
  {
   "cell_type": "code",
   "execution_count": 3,
   "metadata": {},
   "outputs": [
    {
     "name": "stdout",
     "output_type": "stream",
     "text": [
      "running register(<function f1 at 0x000001725958EE18>)\n",
      "running register(<function f2 at 0x0000017259625730>)\n"
     ]
    }
   ],
   "source": [
    "registry = []\n",
    "\n",
    "\n",
    "def register(func):\n",
    "    print('running register(%s)' % func)\n",
    "    registry.append(func)\n",
    "    return func\n",
    "\n",
    "\n",
    "@register\n",
    "def f1():\n",
    "    print('running f1()')\n",
    "\n",
    "\n",
    "@register\n",
    "def f2():\n",
    "    print('running f2()')\n",
    "\n",
    "\n",
    "def f3():\n",
    "    print('running f3()')"
   ]
  },
  {
   "cell_type": "markdown",
   "metadata": {},
   "source": [
    "## 我们还未调用f1,f2，在定义之后装饰器就执行且输出"
   ]
  },
  {
   "cell_type": "markdown",
   "metadata": {},
   "source": [
    "## 通常\n",
    "- 装饰器在单独的模块中定义\n",
    "- 装饰器不会返回原函数，而是修改或者定义新的函数返回"
   ]
  },
  {
   "cell_type": "markdown",
   "metadata": {},
   "source": [
    "## 使用装饰器改进策略模式中，需要手动将新增策略函数加入promos列表中的问题"
   ]
  },
  {
   "cell_type": "markdown",
   "metadata": {},
   "source": [
    "## 之前不做更改"
   ]
  },
  {
   "cell_type": "code",
   "execution_count": 4,
   "metadata": {},
   "outputs": [],
   "source": [
    "from collections import namedtuple\n",
    "\n",
    "Customer = namedtuple('Customer', 'name fidelity')\n",
    "\n",
    "\n",
    "class LineItem:\n",
    "    def __init__(self, product, quantity, price):\n",
    "        self.product = product\n",
    "        self.quantity = quantity\n",
    "        self.price = price\n",
    "\n",
    "    def total(self):\n",
    "        return self.price * self.quantity\n",
    "\n",
    "\n",
    "class Order:\n",
    "    \"\"\"\n",
    "        >>> joe = Customer('John Doe', 0)\n",
    "        >>> ann = Customer('Ann Smith', 1100)\n",
    "        >>> cart = [LineItem('banana', 4, .5),\n",
    "        ...         LineItem('apple', 10, 1.5),\n",
    "        ...         LineItem('watermellon', 5, 5.0)]\n",
    "        >>> Order(joe, cart, fidelity)\n",
    "        <Order total: 42.00 due: 42.00>\n",
    "        >>> Order(ann, cart, fidelity)\n",
    "        <Order total: 42.00 due: 39.90>\n",
    "        >>> banana_cart = [LineItem('banana', 30, .5),\n",
    "        ...                LineItem('apple', 10, 1.5)]\n",
    "        >>> Order(joe, banana_cart, bulk_item)\n",
    "        <Order total: 30.00 due: 28.50>\n",
    "        >>> long_order = [LineItem(str(item_code), 1, 1.0)\n",
    "        ...               for item_code in range(10)]\n",
    "        >>> Order(joe, long_order, large_order)\n",
    "        <Order total: 10.00 due: 9.30>\n",
    "        >>> Order(joe, cart, large_order)\n",
    "        <Order total: 42.00 due: 42.00>\n",
    "        >>> Order(joe, long_order, best_promo)\n",
    "        <Order total: 10.00 due: 9.30>\n",
    "        >>> Order(joe, banana_cart, best_promo)\n",
    "        <Order total: 30.00 due: 28.50>\n",
    "        >>> Order(ann, cart, best_promo)\n",
    "        <Order total: 42.00 due: 39.90>\n",
    "    \"\"\"\n",
    "\n",
    "    def __init__(self, customer, cart, promotion=None):\n",
    "        self.customer = customer\n",
    "        self.cart = list(cart)\n",
    "        self.promotion = promotion\n",
    "\n",
    "    def total(self):\n",
    "        if not hasattr(self, '__total'):\n",
    "            self.__total = sum(item.total() for item in self.cart)\n",
    "        return self.__total\n",
    "\n",
    "    def due(self):\n",
    "        if self.promotion is None:\n",
    "            discount = 0\n",
    "        else:\n",
    "            discount = self.promotion(self)\n",
    "        return self.total() - discount\n",
    "\n",
    "    def __repr__(self):\n",
    "        fmt = '<Order total: {:.2f} due: {:.2f}>'\n",
    "        return fmt.format(self.total(), self.due())"
   ]
  },
  {
   "cell_type": "markdown",
   "metadata": {},
   "source": [
    "## 定义装饰器，使得每个折扣策略函数在调用时自动加入promos列表"
   ]
  },
  {
   "cell_type": "code",
   "execution_count": 5,
   "metadata": {},
   "outputs": [],
   "source": [
    "promos = []\n",
    "\n",
    "\n",
    "def promotion(promo_func):\n",
    "    promos.append(promo_func)\n",
    "    return promo_func"
   ]
  },
  {
   "cell_type": "markdown",
   "metadata": {},
   "source": [
    "## 装饰所有类型的策略函数"
   ]
  },
  {
   "cell_type": "code",
   "execution_count": 6,
   "metadata": {},
   "outputs": [],
   "source": [
    "@promotion\n",
    "def fidelity(order):\n",
    "    return order.total() * .05 if order.customer.fidelity >= 1000 else 0\n",
    "\n",
    "\n",
    "@promotion\n",
    "def bulk_item(order):\n",
    "    discount = 0\n",
    "    for item in order.cart:\n",
    "        if item.quantity >= 20:\n",
    "            discount += item.total() * .1\n",
    "    return discount\n",
    "\n",
    "\n",
    "@promotion\n",
    "def large_order(order):\n",
    "    distinct_items = {item.product for item in order.cart}\n",
    "    if len(distinct_items) >= 10:\n",
    "        return order.total() * .07\n",
    "    return 0\n",
    "\n",
    "\n",
    "def best_promo(order):\n",
    "    return max(promo(order) for promo in promos)"
   ]
  },
  {
   "cell_type": "markdown",
   "metadata": {},
   "source": [
    "## doctest"
   ]
  },
  {
   "cell_type": "code",
   "execution_count": 7,
   "metadata": {},
   "outputs": [
    {
     "name": "stdout",
     "output_type": "stream",
     "text": [
      "Trying:\n",
      "    joe = Customer('John Doe', 0)\n",
      "Expecting nothing\n",
      "ok\n",
      "Trying:\n",
      "    ann = Customer('Ann Smith', 1100)\n",
      "Expecting nothing\n",
      "ok\n",
      "Trying:\n",
      "    cart = [LineItem('banana', 4, .5),\n",
      "            LineItem('apple', 10, 1.5),\n",
      "            LineItem('watermellon', 5, 5.0)]\n",
      "Expecting nothing\n",
      "ok\n",
      "Trying:\n",
      "    Order(joe, cart, fidelity)\n",
      "Expecting:\n",
      "    <Order total: 42.00 due: 42.00>\n",
      "ok\n",
      "Trying:\n",
      "    Order(ann, cart, fidelity)\n",
      "Expecting:\n",
      "    <Order total: 42.00 due: 39.90>\n",
      "ok\n",
      "Trying:\n",
      "    banana_cart = [LineItem('banana', 30, .5),\n",
      "                   LineItem('apple', 10, 1.5)]\n",
      "Expecting nothing\n",
      "ok\n",
      "Trying:\n",
      "    Order(joe, banana_cart, bulk_item)\n",
      "Expecting:\n",
      "    <Order total: 30.00 due: 28.50>\n",
      "ok\n",
      "Trying:\n",
      "    long_order = [LineItem(str(item_code), 1, 1.0)\n",
      "                  for item_code in range(10)]\n",
      "Expecting nothing\n",
      "ok\n",
      "Trying:\n",
      "    Order(joe, long_order, large_order)\n",
      "Expecting:\n",
      "    <Order total: 10.00 due: 9.30>\n",
      "ok\n",
      "Trying:\n",
      "    Order(joe, cart, large_order)\n",
      "Expecting:\n",
      "    <Order total: 42.00 due: 42.00>\n",
      "ok\n",
      "Trying:\n",
      "    Order(joe, long_order, best_promo)\n",
      "Expecting:\n",
      "    <Order total: 10.00 due: 9.30>\n",
      "ok\n",
      "Trying:\n",
      "    Order(joe, banana_cart, best_promo)\n",
      "Expecting:\n",
      "    <Order total: 30.00 due: 28.50>\n",
      "ok\n",
      "Trying:\n",
      "    Order(ann, cart, best_promo)\n",
      "Expecting:\n",
      "    <Order total: 42.00 due: 39.90>\n",
      "ok\n",
      "23 items had no tests:\n",
      "    __main__\n",
      "    __main__.Customer\n",
      "    __main__.Customer.fidelity\n",
      "    __main__.Customer.name\n",
      "    __main__.LineItem\n",
      "    __main__.LineItem.__init__\n",
      "    __main__.LineItem.total\n",
      "    __main__.Order.__init__\n",
      "    __main__.Order.__repr__\n",
      "    __main__.Order.due\n",
      "    __main__.Order.total\n",
      "    __main__._\n",
      "    __main__.best_promo\n",
      "    __main__.bulk_item\n",
      "    __main__.deco\n",
      "    __main__.f1\n",
      "    __main__.f2\n",
      "    __main__.f3\n",
      "    __main__.fidelity\n",
      "    __main__.large_order\n",
      "    __main__.promotion\n",
      "    __main__.register\n",
      "    __main__.yapf_reformat\n",
      "1 items passed all tests:\n",
      "  13 tests in __main__.Order\n",
      "13 tests in 24 items.\n",
      "13 passed and 0 failed.\n",
      "Test passed.\n"
     ]
    },
    {
     "data": {
      "text/plain": [
       "TestResults(failed=0, attempted=13)"
      ]
     },
     "execution_count": 7,
     "metadata": {},
     "output_type": "execute_result"
    }
   ],
   "source": [
    "doctest.testmod(verbose=True)"
   ]
  },
  {
   "cell_type": "markdown",
   "metadata": {},
   "source": [
    "## 变量作用域规则"
   ]
  },
  {
   "cell_type": "markdown",
   "metadata": {},
   "source": [
    "## 下面这个例子会报错\n",
    "- 说明python在编译函数的定义体时就判断b是局部变量\n",
    "- Python不要求声明变量，但是假定在函数定义体中赋值的变量是局部变量"
   ]
  },
  {
   "cell_type": "code",
   "execution_count": 8,
   "metadata": {},
   "outputs": [
    {
     "name": "stdout",
     "output_type": "stream",
     "text": [
      "3\n"
     ]
    },
    {
     "ename": "UnboundLocalError",
     "evalue": "local variable 'b' referenced before assignment",
     "output_type": "error",
     "traceback": [
      "\u001b[1;31m---------------------------------------------------------------------------\u001b[0m",
      "\u001b[1;31mUnboundLocalError\u001b[0m                         Traceback (most recent call last)",
      "\u001b[1;32m<ipython-input-8-a8b5e87118b0>\u001b[0m in \u001b[0;36m<module>\u001b[1;34m\u001b[0m\n\u001b[0;32m      8\u001b[0m \u001b[1;33m\u001b[0m\u001b[0m\n\u001b[0;32m      9\u001b[0m \u001b[1;33m\u001b[0m\u001b[0m\n\u001b[1;32m---> 10\u001b[1;33m \u001b[0mf2\u001b[0m\u001b[1;33m(\u001b[0m\u001b[1;36m3\u001b[0m\u001b[1;33m)\u001b[0m\u001b[1;33m\u001b[0m\u001b[1;33m\u001b[0m\u001b[0m\n\u001b[0m",
      "\u001b[1;32m<ipython-input-8-a8b5e87118b0>\u001b[0m in \u001b[0;36mf2\u001b[1;34m(a)\u001b[0m\n\u001b[0;32m      4\u001b[0m \u001b[1;32mdef\u001b[0m \u001b[0mf2\u001b[0m\u001b[1;33m(\u001b[0m\u001b[0ma\u001b[0m\u001b[1;33m)\u001b[0m\u001b[1;33m:\u001b[0m\u001b[1;33m\u001b[0m\u001b[1;33m\u001b[0m\u001b[0m\n\u001b[0;32m      5\u001b[0m     \u001b[0mprint\u001b[0m\u001b[1;33m(\u001b[0m\u001b[0ma\u001b[0m\u001b[1;33m)\u001b[0m\u001b[1;33m\u001b[0m\u001b[1;33m\u001b[0m\u001b[0m\n\u001b[1;32m----> 6\u001b[1;33m     \u001b[0mprint\u001b[0m\u001b[1;33m(\u001b[0m\u001b[0mb\u001b[0m\u001b[1;33m)\u001b[0m\u001b[1;33m\u001b[0m\u001b[1;33m\u001b[0m\u001b[0m\n\u001b[0m\u001b[0;32m      7\u001b[0m     \u001b[0mb\u001b[0m \u001b[1;33m=\u001b[0m \u001b[1;36m9\u001b[0m\u001b[1;33m\u001b[0m\u001b[1;33m\u001b[0m\u001b[0m\n\u001b[0;32m      8\u001b[0m \u001b[1;33m\u001b[0m\u001b[0m\n",
      "\u001b[1;31mUnboundLocalError\u001b[0m: local variable 'b' referenced before assignment"
     ]
    }
   ],
   "source": [
    "b = 6\n",
    "\n",
    "\n",
    "def f2(a):\n",
    "    print(a)\n",
    "    print(b)\n",
    "    b = 9\n",
    "\n",
    "\n",
    "f2(3)"
   ]
  },
  {
   "cell_type": "markdown",
   "metadata": {},
   "source": [
    "## 因此如果需要解释器将b当成全局变量，要使用global声明"
   ]
  },
  {
   "cell_type": "code",
   "execution_count": 9,
   "metadata": {},
   "outputs": [
    {
     "name": "stdout",
     "output_type": "stream",
     "text": [
      "3\n",
      "6\n"
     ]
    }
   ],
   "source": [
    "b = 6\n",
    "\n",
    "\n",
    "def f3(a):\n",
    "    global b\n",
    "    print(a)\n",
    "    print(b)\n",
    "    b = 9\n",
    "\n",
    "\n",
    "f3(3)"
   ]
  },
  {
   "cell_type": "markdown",
   "metadata": {},
   "source": [
    "## 闭包"
   ]
  },
  {
   "cell_type": "markdown",
   "metadata": {},
   "source": [
    "## 一个例子，用闭包实现计算移动平均值"
   ]
  },
  {
   "cell_type": "code",
   "execution_count": 10,
   "metadata": {},
   "outputs": [],
   "source": [
    "def make_averager():\n",
    "    series = []\n",
    "\n",
    "    def averager(new_value):\n",
    "        series.append(new_value)\n",
    "        total = sum(series)\n",
    "        return total / len(series)\n",
    "\n",
    "    return averager"
   ]
  },
  {
   "cell_type": "markdown",
   "metadata": {},
   "source": [
    "- series是make_averager函数的局部变量\n",
    "- 调用avg = make_averager()时，已经得到一个averager函数，make_averager函数的本地作用域失效\n",
    "- 在averager函数中，series是自由变量（即未在本地作用域中绑定的变量）\n",
    "- **averager函数加上series的定义构成闭包。闭包是一种函数，保留定义函数时存在的自由变量的绑定**"
   ]
  },
  {
   "cell_type": "code",
   "execution_count": 11,
   "metadata": {},
   "outputs": [
    {
     "ename": "UnboundLocalError",
     "evalue": "local variable 'count' referenced before assignment",
     "output_type": "error",
     "traceback": [
      "\u001b[1;31m---------------------------------------------------------------------------\u001b[0m",
      "\u001b[1;31mUnboundLocalError\u001b[0m                         Traceback (most recent call last)",
      "\u001b[1;32m<ipython-input-11-24f280a0e1ed>\u001b[0m in \u001b[0;36m<module>\u001b[1;34m\u001b[0m\n\u001b[0;32m     12\u001b[0m \u001b[1;33m\u001b[0m\u001b[0m\n\u001b[0;32m     13\u001b[0m \u001b[0mavg\u001b[0m \u001b[1;33m=\u001b[0m \u001b[0mmake_averager_wrong\u001b[0m\u001b[1;33m(\u001b[0m\u001b[1;33m)\u001b[0m\u001b[1;33m\u001b[0m\u001b[1;33m\u001b[0m\u001b[0m\n\u001b[1;32m---> 14\u001b[1;33m \u001b[0mavg\u001b[0m\u001b[1;33m(\u001b[0m\u001b[1;36m10\u001b[0m\u001b[1;33m)\u001b[0m\u001b[1;33m\u001b[0m\u001b[1;33m\u001b[0m\u001b[0m\n\u001b[0m",
      "\u001b[1;32m<ipython-input-11-24f280a0e1ed>\u001b[0m in \u001b[0;36maverager\u001b[1;34m(new_value)\u001b[0m\n\u001b[0;32m      4\u001b[0m \u001b[1;33m\u001b[0m\u001b[0m\n\u001b[0;32m      5\u001b[0m     \u001b[1;32mdef\u001b[0m \u001b[0maverager\u001b[0m\u001b[1;33m(\u001b[0m\u001b[0mnew_value\u001b[0m\u001b[1;33m)\u001b[0m\u001b[1;33m:\u001b[0m\u001b[1;33m\u001b[0m\u001b[1;33m\u001b[0m\u001b[0m\n\u001b[1;32m----> 6\u001b[1;33m         \u001b[0mcount\u001b[0m \u001b[1;33m+=\u001b[0m \u001b[1;36m1\u001b[0m\u001b[1;33m\u001b[0m\u001b[1;33m\u001b[0m\u001b[0m\n\u001b[0m\u001b[0;32m      7\u001b[0m         \u001b[0mtotal\u001b[0m \u001b[1;33m+=\u001b[0m \u001b[0mnew_value\u001b[0m\u001b[1;33m\u001b[0m\u001b[1;33m\u001b[0m\u001b[0m\n\u001b[0;32m      8\u001b[0m         \u001b[1;32mreturn\u001b[0m \u001b[0mtotal\u001b[0m \u001b[1;33m/\u001b[0m \u001b[0mcount\u001b[0m\u001b[1;33m\u001b[0m\u001b[1;33m\u001b[0m\u001b[0m\n",
      "\u001b[1;31mUnboundLocalError\u001b[0m: local variable 'count' referenced before assignment"
     ]
    }
   ],
   "source": [
    "def make_averager_wrong():\n",
    "    count = 0\n",
    "    total = 0\n",
    "\n",
    "    def averager(new_value):\n",
    "        count += 1\n",
    "        total += new_value\n",
    "        return total / count\n",
    "\n",
    "    return averager\n",
    "\n",
    "\n",
    "avg = make_averager_wrong()\n",
    "avg(10)"
   ]
  },
  {
   "cell_type": "markdown",
   "metadata": {},
   "source": [
    "## 我们试图将平均值计算改成增量的，但是报错了\n",
    "- 应为count 和 total均初始化为数值，是不可变计算，在进行+=运算时它们被赋值，成为了averager的局部变量，而不是自由变量\n",
    "- 之前的series是可变的对象，即列表，我们没有赋值，只是添加并将其作为参数传给sum,avg\n",
    "- **我们可以使用nonlocal将变量声明为自由变量**"
   ]
  },
  {
   "cell_type": "code",
   "execution_count": 12,
   "metadata": {},
   "outputs": [
    {
     "data": {
      "text/plain": [
       "10.0"
      ]
     },
     "execution_count": 12,
     "metadata": {},
     "output_type": "execute_result"
    }
   ],
   "source": [
    "def make_averager_wrong():\n",
    "    count = 0\n",
    "    total = 0\n",
    "\n",
    "    def averager(new_value):\n",
    "        nonlocal count, total\n",
    "        count += 1\n",
    "        total += new_value\n",
    "        return total / count\n",
    "\n",
    "    return averager\n",
    "\n",
    "\n",
    "avg = make_averager_wrong()\n",
    "avg(10)"
   ]
  },
  {
   "cell_type": "markdown",
   "metadata": {},
   "source": [
    "## 实现一个简单的装饰器（函数计时器）"
   ]
  },
  {
   "cell_type": "code",
   "execution_count": 13,
   "metadata": {},
   "outputs": [],
   "source": [
    "import time\n",
    "\n",
    "\n",
    "def clock(func):\n",
    "    def clocked(*args):\n",
    "        t0 = time.perf_counter()\n",
    "        result = func(*args)\n",
    "        elapsed = time.perf_counter() - t0\n",
    "        name = func.__name__\n",
    "        arg_str = ','.join(repr(arg) for arg in args)\n",
    "        print('[%0.8fs] %s(%s) -> %r' % (elapsed, name, arg_str, result))\n",
    "        return result\n",
    "\n",
    "    return clocked"
   ]
  },
  {
   "cell_type": "code",
   "execution_count": 14,
   "metadata": {},
   "outputs": [],
   "source": [
    "@clock\n",
    "def factorial(n):\n",
    "    return 1 if n < 2 else n * factorial(n - 1)"
   ]
  },
  {
   "cell_type": "code",
   "execution_count": 15,
   "metadata": {},
   "outputs": [
    {
     "name": "stdout",
     "output_type": "stream",
     "text": [
      "[0.00000036s] factorial(1) -> 1\n",
      "[0.00006090s] factorial(2) -> 2\n",
      "[0.00007293s] factorial(3) -> 6\n",
      "[0.00008497s] factorial(4) -> 24\n",
      "[0.00009518s] factorial(5) -> 120\n",
      "[0.00010649s] factorial(6) -> 720\n",
      "[0.00011743s] factorial(7) -> 5040\n",
      "[0.00012946s] factorial(8) -> 40320\n",
      "[0.00013931s] factorial(9) -> 362880\n",
      "[0.00022245s] factorial(10) -> 3628800\n"
     ]
    },
    {
     "data": {
      "text/plain": [
       "3628800"
      ]
     },
     "execution_count": 15,
     "metadata": {},
     "output_type": "execute_result"
    }
   ],
   "source": [
    "factorial(10)"
   ]
  },
  {
   "cell_type": "markdown",
   "metadata": {},
   "source": [
    "## 使用functools.wraps保留原函数属性，并且正确处理关键字参数"
   ]
  },
  {
   "cell_type": "code",
   "execution_count": 16,
   "metadata": {},
   "outputs": [],
   "source": [
    "import time\n",
    "import functools\n",
    "\n",
    "\n",
    "def clock1(func):\n",
    "    @functools.wraps(func)\n",
    "    def clocked(*args, **kwargs):\n",
    "        t0 = time.time()\n",
    "        result = func(*args, **kwargs)\n",
    "        elapsed = time.time() - t0\n",
    "        name = func.__name__\n",
    "        arg_lst = []\n",
    "        if args:\n",
    "            arg_lst.append(','.join(repr(arg) for arg in args))\n",
    "            if kwargs:\n",
    "                pairs = ['%s=%r' % (k, w) for k, w in sorted(kwargs.items())]\n",
    "                arg_lst.append(','.join(pairs))\n",
    "            arg_str = ','.join(arg_lst)\n",
    "            print('[%0.8fs] %s(%s) -> %r' % (elapsed, name, arg_str, result))\n",
    "            return result\n",
    "\n",
    "    return clocked"
   ]
  },
  {
   "cell_type": "code",
   "execution_count": 17,
   "metadata": {},
   "outputs": [],
   "source": [
    "@clock1\n",
    "def factorial1(m, n):\n",
    "    return 1 if n < 2 else n * factorial1(m, n=n - 1)"
   ]
  },
  {
   "cell_type": "code",
   "execution_count": 18,
   "metadata": {},
   "outputs": [
    {
     "name": "stdout",
     "output_type": "stream",
     "text": [
      "[0.00000000s] factorial1(None,n=1) -> 1\n",
      "[0.00000000s] factorial1(None,n=2) -> 2\n",
      "[0.00000000s] factorial1(None,n=3) -> 6\n",
      "[0.00000000s] factorial1(None,n=4) -> 24\n",
      "[0.00000000s] factorial1(None,n=5) -> 120\n",
      "[0.00000000s] factorial1(None,n=6) -> 720\n",
      "[0.00000000s] factorial1(None,n=7) -> 5040\n",
      "[0.00000000s] factorial1(None,n=8) -> 40320\n",
      "[0.00000000s] factorial1(None,n=9) -> 362880\n",
      "[0.00000000s] factorial1(None,n=10) -> 3628800\n"
     ]
    },
    {
     "data": {
      "text/plain": [
       "3628800"
      ]
     },
     "execution_count": 18,
     "metadata": {},
     "output_type": "execute_result"
    }
   ],
   "source": [
    "factorial1(None, n=10)"
   ]
  },
  {
   "cell_type": "markdown",
   "metadata": {},
   "source": [
    "## 几个常用的内置装饰器\n",
    "- property，见第十九章\n",
    "- classmethod,staticmethod，见第九章\n",
    "- functools.wraps，将原函数的__name__和__doc__属性复制到装饰过后的函数中，帮助构建行为良好的装饰器"
   ]
  },
  {
   "cell_type": "markdown",
   "metadata": {},
   "source": [
    "## functools.lru_cache\n",
    "- 保存耗时的函数的结果，避免传入相同的参数时重复计算"
   ]
  },
  {
   "cell_type": "code",
   "execution_count": 19,
   "metadata": {},
   "outputs": [],
   "source": [
    "@functools.lru_cache()\n",
    "@clock1\n",
    "def fib_test_optimized(n):\n",
    "    if n < 2:\n",
    "        return n\n",
    "    return fib_test_optimized(n - 2) + fib_test_optimized(n - 1)\n",
    "\n",
    "\n",
    "@clock1\n",
    "def fib_test(n):\n",
    "    if n < 2:\n",
    "        return n\n",
    "    return fib_test(n - 2) + fib_test(n - 1)"
   ]
  },
  {
   "cell_type": "code",
   "execution_count": 20,
   "metadata": {},
   "outputs": [
    {
     "name": "stdout",
     "output_type": "stream",
     "text": [
      "[0.00000000s] fib_test_optimized(0) -> 0\n",
      "[0.00000000s] fib_test_optimized(1) -> 1\n",
      "[0.00000000s] fib_test_optimized(2) -> 1\n",
      "[0.00000000s] fib_test_optimized(3) -> 2\n",
      "[0.00000000s] fib_test_optimized(4) -> 3\n",
      "[0.00000000s] fib_test_optimized(5) -> 5\n",
      "[0.00000000s] fib_test_optimized(6) -> 8\n",
      "[0.00000000s] fib_test_optimized(7) -> 13\n",
      "[0.00000000s] fib_test_optimized(8) -> 21\n",
      "[0.00000000s] fib_test_optimized(9) -> 34\n",
      "[0.00000000s] fib_test_optimized(10) -> 55\n"
     ]
    },
    {
     "data": {
      "text/plain": [
       "55"
      ]
     },
     "execution_count": 20,
     "metadata": {},
     "output_type": "execute_result"
    }
   ],
   "source": [
    "fib_test_optimized(10)"
   ]
  },
  {
   "cell_type": "code",
   "execution_count": 21,
   "metadata": {},
   "outputs": [
    {
     "name": "stdout",
     "output_type": "stream",
     "text": [
      "[0.00000000s] fib_test(0) -> 0\n",
      "[0.00000000s] fib_test(1) -> 1\n",
      "[0.00000000s] fib_test(2) -> 1\n",
      "[0.00000000s] fib_test(1) -> 1\n",
      "[0.00000000s] fib_test(0) -> 0\n",
      "[0.00000000s] fib_test(1) -> 1\n",
      "[0.00000000s] fib_test(2) -> 1\n",
      "[0.00000000s] fib_test(3) -> 2\n",
      "[0.00000000s] fib_test(4) -> 3\n",
      "[0.00000000s] fib_test(1) -> 1\n",
      "[0.00000000s] fib_test(0) -> 0\n",
      "[0.00000000s] fib_test(1) -> 1\n",
      "[0.00000000s] fib_test(2) -> 1\n",
      "[0.00000000s] fib_test(3) -> 2\n",
      "[0.00000000s] fib_test(0) -> 0\n",
      "[0.00000000s] fib_test(1) -> 1\n",
      "[0.00000000s] fib_test(2) -> 1\n",
      "[0.00000000s] fib_test(1) -> 1\n",
      "[0.00000000s] fib_test(0) -> 0\n",
      "[0.00000000s] fib_test(1) -> 1\n",
      "[0.00000000s] fib_test(2) -> 1\n",
      "[0.00000000s] fib_test(3) -> 2\n",
      "[0.00000000s] fib_test(4) -> 3\n",
      "[0.00000000s] fib_test(5) -> 5\n",
      "[0.00000000s] fib_test(6) -> 8\n",
      "[0.00000000s] fib_test(1) -> 1\n",
      "[0.00000000s] fib_test(0) -> 0\n",
      "[0.00000000s] fib_test(1) -> 1\n",
      "[0.00000000s] fib_test(2) -> 1\n",
      "[0.00000000s] fib_test(3) -> 2\n",
      "[0.00000000s] fib_test(0) -> 0\n",
      "[0.00000000s] fib_test(1) -> 1\n",
      "[0.00000000s] fib_test(2) -> 1\n",
      "[0.00000000s] fib_test(1) -> 1\n",
      "[0.00000000s] fib_test(0) -> 0\n",
      "[0.00000000s] fib_test(1) -> 1\n",
      "[0.00000000s] fib_test(2) -> 1\n",
      "[0.00000000s] fib_test(3) -> 2\n",
      "[0.00000000s] fib_test(4) -> 3\n",
      "[0.00000000s] fib_test(5) -> 5\n",
      "[0.00000000s] fib_test(0) -> 0\n",
      "[0.00000000s] fib_test(1) -> 1\n",
      "[0.00000000s] fib_test(2) -> 1\n",
      "[0.00000000s] fib_test(1) -> 1\n",
      "[0.00000000s] fib_test(0) -> 0\n",
      "[0.00000000s] fib_test(1) -> 1\n",
      "[0.00000000s] fib_test(2) -> 1\n",
      "[0.00000000s] fib_test(3) -> 2\n",
      "[0.00000000s] fib_test(4) -> 3\n",
      "[0.00000000s] fib_test(1) -> 1\n",
      "[0.00000000s] fib_test(0) -> 0\n",
      "[0.00000000s] fib_test(1) -> 1\n",
      "[0.00000000s] fib_test(2) -> 1\n",
      "[0.00000000s] fib_test(3) -> 2\n",
      "[0.00000000s] fib_test(0) -> 0\n",
      "[0.00000000s] fib_test(1) -> 1\n",
      "[0.00000000s] fib_test(2) -> 1\n",
      "[0.00000000s] fib_test(1) -> 1\n",
      "[0.00000000s] fib_test(0) -> 0\n",
      "[0.00000000s] fib_test(1) -> 1\n",
      "[0.00102520s] fib_test(2) -> 1\n",
      "[0.00102520s] fib_test(3) -> 2\n",
      "[0.00102520s] fib_test(4) -> 3\n",
      "[0.00102520s] fib_test(5) -> 5\n",
      "[0.00102520s] fib_test(6) -> 8\n",
      "[0.00102520s] fib_test(7) -> 13\n",
      "[0.00102520s] fib_test(8) -> 21\n",
      "[0.00000000s] fib_test(1) -> 1\n",
      "[0.00000000s] fib_test(0) -> 0\n",
      "[0.00000000s] fib_test(1) -> 1\n",
      "[0.00000000s] fib_test(2) -> 1\n",
      "[0.00000000s] fib_test(3) -> 2\n",
      "[0.00000000s] fib_test(0) -> 0\n",
      "[0.00000000s] fib_test(1) -> 1\n",
      "[0.00000000s] fib_test(2) -> 1\n",
      "[0.00000000s] fib_test(1) -> 1\n",
      "[0.00000000s] fib_test(0) -> 0\n",
      "[0.00000000s] fib_test(1) -> 1\n",
      "[0.00000000s] fib_test(2) -> 1\n",
      "[0.00000000s] fib_test(3) -> 2\n",
      "[0.00000000s] fib_test(4) -> 3\n",
      "[0.00000000s] fib_test(5) -> 5\n",
      "[0.00000000s] fib_test(0) -> 0\n",
      "[0.00000000s] fib_test(1) -> 1\n",
      "[0.00000000s] fib_test(2) -> 1\n",
      "[0.00000000s] fib_test(1) -> 1\n",
      "[0.00000000s] fib_test(0) -> 0\n",
      "[0.00000000s] fib_test(1) -> 1\n",
      "[0.00000000s] fib_test(2) -> 1\n",
      "[0.00000000s] fib_test(3) -> 2\n",
      "[0.00000000s] fib_test(4) -> 3\n",
      "[0.00000000s] fib_test(1) -> 1\n",
      "[0.00000000s] fib_test(0) -> 0\n",
      "[0.00000000s] fib_test(1) -> 1\n",
      "[0.00000000s] fib_test(2) -> 1\n",
      "[0.00000000s] fib_test(3) -> 2\n",
      "[0.00000000s] fib_test(0) -> 0\n",
      "[0.00000000s] fib_test(1) -> 1\n",
      "[0.00000000s] fib_test(2) -> 1\n",
      "[0.00000000s] fib_test(1) -> 1\n",
      "[0.00000000s] fib_test(0) -> 0\n",
      "[0.00000000s] fib_test(1) -> 1\n",
      "[0.00000000s] fib_test(2) -> 1\n",
      "[0.00000000s] fib_test(3) -> 2\n",
      "[0.00000000s] fib_test(4) -> 3\n",
      "[0.00000000s] fib_test(5) -> 5\n",
      "[0.00000000s] fib_test(6) -> 8\n",
      "[0.00000000s] fib_test(7) -> 13\n",
      "[0.00000000s] fib_test(0) -> 0\n",
      "[0.00000000s] fib_test(1) -> 1\n",
      "[0.00099611s] fib_test(2) -> 1\n",
      "[0.00000000s] fib_test(1) -> 1\n",
      "[0.00000000s] fib_test(0) -> 0\n",
      "[0.00000000s] fib_test(1) -> 1\n",
      "[0.00000000s] fib_test(2) -> 1\n",
      "[0.00000000s] fib_test(3) -> 2\n",
      "[0.00099611s] fib_test(4) -> 3\n",
      "[0.00000000s] fib_test(1) -> 1\n",
      "[0.00000000s] fib_test(0) -> 0\n",
      "[0.00000000s] fib_test(1) -> 1\n",
      "[0.00000000s] fib_test(2) -> 1\n",
      "[0.00000000s] fib_test(3) -> 2\n",
      "[0.00000000s] fib_test(0) -> 0\n",
      "[0.00000000s] fib_test(1) -> 1\n",
      "[0.00000000s] fib_test(2) -> 1\n",
      "[0.00000000s] fib_test(1) -> 1\n",
      "[0.00000000s] fib_test(0) -> 0\n",
      "[0.00000000s] fib_test(1) -> 1\n",
      "[0.00000000s] fib_test(2) -> 1\n",
      "[0.00000000s] fib_test(3) -> 2\n",
      "[0.00000000s] fib_test(4) -> 3\n",
      "[0.00000000s] fib_test(5) -> 5\n",
      "[0.00099611s] fib_test(6) -> 8\n",
      "[0.00000000s] fib_test(1) -> 1\n",
      "[0.00000000s] fib_test(0) -> 0\n",
      "[0.00000000s] fib_test(1) -> 1\n",
      "[0.00000000s] fib_test(2) -> 1\n",
      "[0.00000000s] fib_test(3) -> 2\n",
      "[0.00000000s] fib_test(0) -> 0\n",
      "[0.00000000s] fib_test(1) -> 1\n",
      "[0.00000000s] fib_test(2) -> 1\n",
      "[0.00000000s] fib_test(1) -> 1\n",
      "[0.00000000s] fib_test(0) -> 0\n",
      "[0.00000000s] fib_test(1) -> 1\n",
      "[0.00000000s] fib_test(2) -> 1\n",
      "[0.00000000s] fib_test(3) -> 2\n",
      "[0.00000000s] fib_test(4) -> 3\n",
      "[0.00000000s] fib_test(5) -> 5\n",
      "[0.00000000s] fib_test(0) -> 0\n",
      "[0.00000000s] fib_test(1) -> 1\n",
      "[0.00000000s] fib_test(2) -> 1\n",
      "[0.00000000s] fib_test(1) -> 1\n",
      "[0.00000000s] fib_test(0) -> 0\n",
      "[0.00000000s] fib_test(1) -> 1\n",
      "[0.00000000s] fib_test(2) -> 1\n",
      "[0.00000000s] fib_test(3) -> 2\n",
      "[0.00000000s] fib_test(4) -> 3\n",
      "[0.00000000s] fib_test(1) -> 1\n",
      "[0.00000000s] fib_test(0) -> 0\n",
      "[0.00000000s] fib_test(1) -> 1\n",
      "[0.00000000s] fib_test(2) -> 1\n",
      "[0.00000000s] fib_test(3) -> 2\n",
      "[0.00000000s] fib_test(0) -> 0\n",
      "[0.00000000s] fib_test(1) -> 1\n",
      "[0.00000000s] fib_test(2) -> 1\n",
      "[0.00000000s] fib_test(1) -> 1\n",
      "[0.00000000s] fib_test(0) -> 0\n",
      "[0.00000000s] fib_test(1) -> 1\n",
      "[0.00000000s] fib_test(2) -> 1\n",
      "[0.00000000s] fib_test(3) -> 2\n",
      "[0.00000000s] fib_test(4) -> 3\n",
      "[0.00000000s] fib_test(5) -> 5\n",
      "[0.00000000s] fib_test(6) -> 8\n",
      "[0.00000000s] fib_test(7) -> 13\n",
      "[0.00099611s] fib_test(8) -> 21\n",
      "[0.00099611s] fib_test(9) -> 34\n",
      "[0.00202131s] fib_test(10) -> 55\n"
     ]
    },
    {
     "data": {
      "text/plain": [
       "55"
      ]
     },
     "execution_count": 21,
     "metadata": {},
     "output_type": "execute_result"
    }
   ],
   "source": [
    "fib_test(10)"
   ]
  },
  {
   "cell_type": "markdown",
   "metadata": {},
   "source": [
    "## 使用singledispatch来将普通函数装饰为泛函数，根据第一个参数的类型以不同方式执行相同操作的一组函数（单分派而不是多分派，即不是根据多个参数选择专门的函数）"
   ]
  },
  {
   "cell_type": "code",
   "execution_count": 23,
   "metadata": {},
   "outputs": [],
   "source": [
    "\"\"\"\n",
    ">>> htmlize({1, 2, 3})  # <1>\n",
    "'<pre>{1, 2, 3}</pre>'\n",
    ">>> htmlize(abs)\n",
    "'<pre>&lt;built-in function abs&gt;</pre>'\n",
    ">>> htmlize('Heimlich & Co.\\n- a game')  # <2>\n",
    "'<p>Heimlich &amp; Co.<br>\\n- a game</p>'\n",
    ">>> htmlize(42)  # <3>\n",
    "'<pre>42 (0x2a)</pre>'\n",
    ">>> print(htmlize(['alpha', 66, {3, 2, 1}]))  # <4>\n",
    "<ul>\n",
    "<li><p>alpha</p></li>\n",
    "<li><pre>66 (0x42)</pre></li>\n",
    "<li><pre>{1, 2, 3}</pre></li>\n",
    "</ul>\n",
    "# END HTMLIZE_DEMO\n",
    "\"\"\"\n",
    "\n",
    "from functools import singledispatch\n",
    "from collections import abc\n",
    "import numbers\n",
    "import html\n",
    "\n",
    "\n",
    "@singledispatch\n",
    "def htmlize(obj):\n",
    "    content = html.escape(repr(obj))\n",
    "    return '<pre>{}</pre>'.format(content)\n",
    "\n",
    "\n",
    "@htmlize.register(str)\n",
    "def _(text):\n",
    "    content = html.escape(text).replace('\\n', '<br>\\n')\n",
    "    return '<p>{0}</p>'.format(content)\n",
    "\n",
    "\n",
    "@htmlize.register(numbers.Integral)\n",
    "def _(n):\n",
    "    return '<pre>{0} (0x{0:x})</pre>'.format(n)\n",
    "\n",
    "\n",
    "@htmlize.register(tuple)\n",
    "@htmlize.register(abc.MutableSequence)\n",
    "def _(seq):\n",
    "    inner = '</li>\\n<li>'.join(htmlize(item) for item in seq)\n",
    "    return '<ul>\\n<li>' + inner + '</li>\\n</ul>'"
   ]
  },
  {
   "cell_type": "markdown",
   "metadata": {},
   "source": [
    "## 参数化装饰器"
   ]
  },
  {
   "cell_type": "markdown",
   "metadata": {},
   "source": [
    "## 使用装饰器工厂函数，指定参数后工厂函数会返回装饰器，我们再使用参数化的装饰器装饰函数"
   ]
  },
  {
   "cell_type": "code",
   "execution_count": 25,
   "metadata": {},
   "outputs": [],
   "source": [
    "registry = set()\n",
    "\n",
    "\n",
    "def register(active=True):\n",
    "    def decorate(func):\n",
    "        print('running register(active=%s)->decorate(%s)' % (active, func))\n",
    "        if active:\n",
    "            registry.add(func)\n",
    "        else:\n",
    "            registry.discard(func)\n",
    "\n",
    "        return func\n",
    "\n",
    "    return decorate"
   ]
  },
  {
   "cell_type": "markdown",
   "metadata": {},
   "source": [
    "## register为工厂函数，内部的decorate是真正的装饰器，其参数是一个函数\n",
    "- 这时的decorate相当于之前的clock，可以在内部再定义函数来进行装饰，就是三层def\n",
    "- 工厂返回装饰器，装饰器再返回装饰后的函数，不过写在一行@register(active=True/False)中"
   ]
  },
  {
   "cell_type": "code",
   "execution_count": 27,
   "metadata": {},
   "outputs": [
    {
     "name": "stdout",
     "output_type": "stream",
     "text": [
      "running register(active=False)->decorate(<function f1 at 0x0000017259911048>)\n",
      "running register(active=True)->decorate(<function f2 at 0x0000017259911620>)\n"
     ]
    }
   ],
   "source": [
    "@register(active=False)\n",
    "def f1():\n",
    "    print('running f1()')\n",
    "\n",
    "\n",
    "@register()\n",
    "def f2():\n",
    "    print('running f2()')\n",
    "\n",
    "\n",
    "def f3():\n",
    "    print('running f3()')"
   ]
  },
  {
   "cell_type": "markdown",
   "metadata": {},
   "source": [
    "##  不使用语法糖，则应该写成register(active=True/False)(f)"
   ]
  },
  {
   "cell_type": "code",
   "execution_count": 29,
   "metadata": {},
   "outputs": [
    {
     "name": "stdout",
     "output_type": "stream",
     "text": [
      "running register(active=True)->decorate(<function f3 at 0x00000172599111E0>)\n"
     ]
    },
    {
     "data": {
      "text/plain": [
       "<function __main__.f3()>"
      ]
     },
     "execution_count": 29,
     "metadata": {},
     "output_type": "execute_result"
    }
   ],
   "source": [
    "register()(f3)"
   ]
  },
  {
   "cell_type": "markdown",
   "metadata": {},
   "source": [
    "## 三层def的示例：clock\n",
    "- 根据传入的参数格式化输出"
   ]
  },
  {
   "cell_type": "code",
   "execution_count": 36,
   "metadata": {},
   "outputs": [],
   "source": [
    "import time\n",
    "\n",
    "DEFAULT_FMT = '[{elapsed:0.8f}s] {name}({args}) -> {result}'\n",
    "\n",
    "def clock(fmt=DEFAULT_FMT):  \n",
    "    def decorate(func):      \n",
    "        def clocked(*_args):\n",
    "            t0 = time.time()\n",
    "            _result = func(*_args)  \n",
    "            elapsed = time.time() - t0\n",
    "            name = func.__name__\n",
    "            args = ', '.join(repr(arg) for arg in _args) \n",
    "            result = repr(_result) \n",
    "            print(fmt.format(**locals()))  \n",
    "            return _result  \n",
    "        return clocked  \n",
    "    return decorate  "
   ]
  },
  {
   "cell_type": "code",
   "execution_count": 37,
   "metadata": {},
   "outputs": [
    {
     "name": "stdout",
     "output_type": "stream",
     "text": [
      "[0.12301469s] snooze(0.123) -> None\n",
      "[0.12357759s] snooze(0.123) -> None\n",
      "[0.12316132s] snooze(0.123) -> None\n"
     ]
    }
   ],
   "source": [
    "@clock()  \n",
    "def snooze(seconds):\n",
    "    time.sleep(seconds)\n",
    "\n",
    "for i in range(3):\n",
    "    snooze(.123)"
   ]
  },
  {
   "cell_type": "code",
   "execution_count": 38,
   "metadata": {},
   "outputs": [
    {
     "name": "stdout",
     "output_type": "stream",
     "text": [
      "snooze:0.12351775169372559s\n",
      "snooze:0.1237328052520752s\n",
      "snooze:0.1239919662475586s\n"
     ]
    }
   ],
   "source": [
    "@clock('{name}:{elapsed}s')  \n",
    "def snooze(seconds):\n",
    "    time.sleep(seconds)\n",
    "\n",
    "for i in range(3):\n",
    "    snooze(.123)"
   ]
  },
  {
   "cell_type": "code",
   "execution_count": 35,
   "metadata": {},
   "outputs": [
    {
     "name": "stdout",
     "output_type": "stream",
     "text": [
      "snooze(0.123) dt=0.123s\n",
      "snooze(0.123) dt=0.124s\n",
      "snooze(0.123) dt=0.124s\n"
     ]
    }
   ],
   "source": [
    "@clock('{name}({args}) dt={elapsed:0.3f}s')\n",
    "def snooze(seconds):\n",
    "    time.sleep(seconds)\n",
    "\n",
    "for i in range(3):\n",
    "    snooze(.123)"
   ]
  }
 ],
 "metadata": {
  "kernelspec": {
   "display_name": "Python 3",
   "language": "python",
   "name": "python3"
  },
  "language_info": {
   "codemirror_mode": {
    "name": "ipython",
    "version": 3
   },
   "file_extension": ".py",
   "mimetype": "text/x-python",
   "name": "python",
   "nbconvert_exporter": "python",
   "pygments_lexer": "ipython3",
   "version": "3.7.1"
  },
  "latex_envs": {
   "LaTeX_envs_menu_present": true,
   "autoclose": false,
   "autocomplete": true,
   "bibliofile": "biblio.bib",
   "cite_by": "apalike",
   "current_citInitial": 1,
   "eqLabelWithNumbers": true,
   "eqNumInitial": 1,
   "hotkeys": {
    "equation": "Ctrl-E",
    "itemize": "Ctrl-I"
   },
   "labels_anchors": false,
   "latex_user_defs": false,
   "report_style_numbering": false,
   "user_envs_cfg": false
  }
 },
 "nbformat": 4,
 "nbformat_minor": 2
}
