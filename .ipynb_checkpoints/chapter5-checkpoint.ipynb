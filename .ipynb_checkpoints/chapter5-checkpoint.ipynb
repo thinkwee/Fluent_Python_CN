{
 "cells": [
  {
   "cell_type": "raw",
   "metadata": {},
   "source": [
    "介绍函数，以及把函数作为对象的影响和实际应用"
   ]
  },
  {
   "cell_type": "raw",
   "metadata": {},
   "source": [
    "函数对象本身是function类的实例"
   ]
  },
  {
   "cell_type": "code",
   "execution_count": 4,
   "metadata": {},
   "outputs": [
    {
     "name": "stdout",
     "output_type": "stream",
     "text": [
      "479001600\n",
      "return n!\n"
     ]
    },
    {
     "data": {
      "text/plain": [
       "function"
      ]
     },
     "execution_count": 4,
     "metadata": {},
     "output_type": "execute_result"
    }
   ],
   "source": [
    "def factorial(n):\n",
    "    '''return n!'''\n",
    "    return 1 if n<2 else n* factorial(n-1)\n",
    "print(factorial(12))\n",
    "print(factorial.__doc__)\n",
    "type(factorial)"
   ]
  },
  {
   "cell_type": "code",
   "execution_count": 5,
   "metadata": {},
   "outputs": [
    {
     "name": "stdout",
     "output_type": "stream",
     "text": [
      "Help on function factorial in module __main__:\n",
      "\n",
      "factorial(n)\n",
      "    return n!\n",
      "\n"
     ]
    }
   ],
   "source": [
    "help(factorial)"
   ]
  },
  {
   "cell_type": "raw",
   "metadata": {},
   "source": [
    "函数可以赋值给变量并被调用，可以作为参数传给其他函数"
   ]
  },
  {
   "cell_type": "code",
   "execution_count": 7,
   "metadata": {},
   "outputs": [
    {
     "name": "stdout",
     "output_type": "stream",
     "text": [
      "120\n",
      "[1, 1, 2, 6, 24, 120, 720, 5040, 40320, 362880, 3628800]\n"
     ]
    }
   ],
   "source": [
    "fact=factorial\n",
    "print(fact(5))\n",
    "print(list(map(fact,range(11))))"
   ]
  },
  {
   "cell_type": "raw",
   "metadata": {},
   "source": [
    "接收函数为参数或者返回值是函数的函数就是高阶函数，例如sort,map"
   ]
  },
  {
   "cell_type": "code",
   "execution_count": 8,
   "metadata": {},
   "outputs": [
    {
     "data": {
      "text/plain": [
       "['fig', 'apple', 'cherry', 'banana', 'raspberry', 'strawberry']"
      ]
     },
     "execution_count": 8,
     "metadata": {},
     "output_type": "execute_result"
    }
   ],
   "source": [
    "fruits=['strawberry','fig','apple','cherry','raspberry','banana']\n",
    "sorted(fruits,key=len)"
   ]
  },
  {
   "cell_type": "raw",
   "metadata": {},
   "source": [
    "在上例中，一个技巧是写一个将字符串反转的函数，作为key进行排序，这样所有具有相同后缀的词语会排在一起"
   ]
  },
  {
   "cell_type": "raw",
   "metadata": {},
   "source": [
    "匿名函数lambda\n",
    "lambda函数的定义体中不能赋值不能使用while 和try等python语句\n",
    "适合在参数列表中使用"
   ]
  },
  {
   "cell_type": "code",
   "execution_count": 9,
   "metadata": {},
   "outputs": [
    {
     "data": {
      "text/plain": [
       "['banana', 'apple', 'fig', 'raspberry', 'strawberry', 'cherry']"
      ]
     },
     "execution_count": 9,
     "metadata": {},
     "output_type": "execute_result"
    }
   ],
   "source": [
    "sorted(fruits,key=lambda word:word[::-1])"
   ]
  },
  {
   "cell_type": "raw",
   "metadata": {},
   "source": [
    "可调用对象除了函数，还包括：\n",
    "内置函数\n",
    "内置方法\n",
    "方法\n",
    "类\n",
    "类的实例\n",
    "生成器函数\n",
    "可以通过callable()方法来确定是否可以调用"
   ]
  },
  {
   "cell_type": "raw",
   "metadata": {},
   "source": [
    "只要实现了__call__方法，任何对象都可以表现得像函数"
   ]
  },
  {
   "cell_type": "code",
   "execution_count": 13,
   "metadata": {},
   "outputs": [
    {
     "name": "stdout",
     "output_type": "stream",
     "text": [
      "0\n",
      "2\n"
     ]
    }
   ],
   "source": [
    "import random\n",
    "class BingoCage:\n",
    "    def __init__(self,items):\n",
    "        self._items=list(items)\n",
    "        random.shuffle(self._items)\n",
    "    def pick(self):\n",
    "        try:\n",
    "            return self._items.pop()\n",
    "        except IndexError:\n",
    "            raise LookupError('pick from empty BingoCage')\n",
    "    def __call__(self):\n",
    "        return self.pick()\n",
    "bingo=BingoCage(range(3))\n",
    "print(bingo.pick())\n",
    "print(bingo())"
   ]
  },
  {
   "cell_type": "raw",
   "metadata": {},
   "source": [
    "函数内省\n",
    "可以查看函数有而一般对象没有的属性"
   ]
  },
  {
   "cell_type": "code",
   "execution_count": 15,
   "metadata": {},
   "outputs": [
    {
     "data": {
      "text/plain": [
       "['__annotations__',\n",
       " '__call__',\n",
       " '__closure__',\n",
       " '__code__',\n",
       " '__defaults__',\n",
       " '__get__',\n",
       " '__globals__',\n",
       " '__kwdefaults__',\n",
       " '__name__',\n",
       " '__qualname__']"
      ]
     },
     "execution_count": 15,
     "metadata": {},
     "output_type": "execute_result"
    }
   ],
   "source": [
    "class C:\n",
    "    pass\n",
    "obj=C()\n",
    "def func():\n",
    "    pass\n",
    "\n",
    "sorted(set(dir(func))-set(dir(obj)))"
   ]
  },
  {
   "cell_type": "raw",
   "metadata": {},
   "source": [
    "灵活的参数处理机制，包括：\n",
    "仅限关键字参数\n",
    "使用*和**展开可迭代对象"
   ]
  },
  {
   "cell_type": "code",
   "execution_count": 17,
   "metadata": {},
   "outputs": [
    {
     "name": "stdout",
     "output_type": "stream",
     "text": [
      "<br />\n",
      "<p>hello</p>\n",
      "<p>hello</p>\n",
      "<p>world</p>\n",
      "<p id=\"33\">hello</p>\n",
      "<p class=\"sidebar\">hello</p>\n",
      "<p class=\"sidebar\">world</p>\n",
      "<img content=\"testing\" />\n",
      "<img class=\"framed\" src=\"sunset.jpg\" title=\"ASunset Boulevard\" />\n"
     ]
    }
   ],
   "source": [
    "def tag(name,*content,cls=None,**attrs):\n",
    "    \"\"\"生成一个或多个HTML标签\"\"\"\n",
    "    if cls is not None:\n",
    "        attrs['class']=cls\n",
    "    if attrs:\n",
    "        attr_str=''.join(' %s=\"%s\"'%(attr,value) for attr,value in sorted(attrs.items()))\n",
    "    else:\n",
    "        attr_str=''\n",
    "    if content:\n",
    "        return '\\n'.join('<%s%s>%s</%s>'%(name,attr_str,c,name) for c in content)\n",
    "    else:\n",
    "        return '<%s%s />'%(name,attr_str)\n",
    "print(tag('br'))\n",
    "print(tag('p','hello'))\n",
    "print(tag('p','hello','world'))\n",
    "print(tag('p','hello',id=33))\n",
    "print(tag('p','hello','world',cls='sidebar'))\n",
    "print(tag(content='testing',name=\"img\"))\n",
    "my_tag={'name':'img','title':'ASunset Boulevard','src':'sunset.jpg','cls':'framed'}\n",
    "print(tag(**my_tag))"
   ]
  },
  {
   "cell_type": "code",
   "execution_count": null,
   "metadata": {},
   "outputs": [],
   "source": []
  }
 ],
 "metadata": {
  "kernelspec": {
   "display_name": "Python 3",
   "language": "python",
   "name": "python3"
  },
  "language_info": {
   "codemirror_mode": {
    "name": "ipython",
    "version": 3
   },
   "file_extension": ".py",
   "mimetype": "text/x-python",
   "name": "python",
   "nbconvert_exporter": "python",
   "pygments_lexer": "ipython3",
   "version": "3.6.4"
  }
 },
 "nbformat": 4,
 "nbformat_minor": 2
}
