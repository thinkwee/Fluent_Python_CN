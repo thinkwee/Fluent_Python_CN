{
 "cells": [
  {
   "cell_type": "markdown",
   "metadata": {},
   "source": [
    "# 使用一等函数实现设计模式"
   ]
  },
  {
   "cell_type": "code",
   "execution_count": 79,
   "metadata": {},
   "outputs": [],
   "source": [
    "from abc import ABC, abstractmethod\n",
    "from collections import namedtuple\n",
    "import doctest\n",
    "import inspect\n",
    "import promotions"
   ]
  },
  {
   "cell_type": "code",
   "execution_count": 52,
   "metadata": {},
   "outputs": [],
   "source": [
    "Customer = namedtuple('Customer', 'name fidelity')"
   ]
  },
  {
   "cell_type": "code",
   "execution_count": 53,
   "metadata": {},
   "outputs": [],
   "source": [
    "class LineItem:\n",
    "    def __init__(self, product, quantity, price):\n",
    "        self.product = product\n",
    "        self.quantity = quantity\n",
    "        self.price = price\n",
    "\n",
    "    def total(self):\n",
    "        return self.price * self.quantity"
   ]
  },
  {
   "cell_type": "code",
   "execution_count": 54,
   "metadata": {},
   "outputs": [],
   "source": [
    "class Order:\n",
    "    \"\"\"\n",
    "        >>> joe = Customer('John Doe', 0) \n",
    "        >>> ann = Customer('Ann Smith', 1100)\n",
    "        >>> cart = [LineItem('banana', 4, .5), \n",
    "        ...         LineItem('apple', 10, 1.5),\n",
    "        ...         LineItem('watermellon', 5, 5.0)]\n",
    "        >>> Order(joe, cart, FidelityPromo()) \n",
    "        <Order total: 42.00 due: 42.00>\n",
    "        >>> Order(ann, cart, FidelityPromo()) \n",
    "        <Order total: 42.00 due: 39.90>\n",
    "        >>> banana_cart = [LineItem('banana', 30, .5),  \n",
    "        ...                LineItem('apple', 10, 1.5)]\n",
    "        >>> Order(joe, banana_cart, BulkItemPromo()) \n",
    "        <Order total: 30.00 due: 28.50>\n",
    "        >>> long_order = [LineItem(str(item_code), 1, 1.0) \n",
    "        ...               for item_code in range(10)]\n",
    "        >>> Order(joe, long_order, LargeOrderPromo()) \n",
    "        <Order total: 10.00 due: 9.30>\n",
    "        >>> Order(joe, cart, LargeOrderPromo())\n",
    "        <Order total: 42.00 due: 42.00>\n",
    "    \"\"\"\n",
    "\n",
    "    def __init__(self, customer, cart, promotion=None):\n",
    "        self.customer = customer\n",
    "        self.cart = list(cart)\n",
    "        self.promotion = promotion\n",
    "\n",
    "    def total(self):\n",
    "        if not hasattr(self, '__total'):\n",
    "            self.__total = sum(item.total() for item in self.cart)\n",
    "        return self.__total\n",
    "\n",
    "    def due(self):\n",
    "        if self.promotion is None:\n",
    "            discount = 0\n",
    "        else:\n",
    "            discount = self.promotion.discount(self)\n",
    "        return self.total() - discount\n",
    "\n",
    "    def __repr__(self):\n",
    "        fmt = '<Order total: {:.2f} due: {:.2f}>'\n",
    "        return fmt.format(self.total(), self.due())"
   ]
  },
  {
   "cell_type": "code",
   "execution_count": 55,
   "metadata": {},
   "outputs": [],
   "source": [
    "class Promotion(ABC):\n",
    "    @abstractmethod\n",
    "    def discount(self, order):\n",
    "        '''返回折扣金额（正值）'''"
   ]
  },
  {
   "cell_type": "code",
   "execution_count": 56,
   "metadata": {},
   "outputs": [],
   "source": [
    "class FidelityPromo(Promotion):\n",
    "    def discount(self, order):\n",
    "        return order.total() * .05 if order.customer.fidelity >= 1000 else 0"
   ]
  },
  {
   "cell_type": "code",
   "execution_count": 57,
   "metadata": {},
   "outputs": [],
   "source": [
    "class BulkItemPromo(Promotion):\n",
    "    def discount(self, order):\n",
    "        discount = 0\n",
    "        for item in order.cart:\n",
    "            if item.quantity >= 20:\n",
    "                discount += item.total() * .1\n",
    "        return discount"
   ]
  },
  {
   "cell_type": "code",
   "execution_count": 58,
   "metadata": {},
   "outputs": [],
   "source": [
    "class LargeOrderPromo(Promotion):\n",
    "    def discount(self, order):\n",
    "        distinct_items = {item.product for item in order.cart}\n",
    "        if len(distinct_items) >= 10:\n",
    "            return order.total() * .07\n",
    "        return 0"
   ]
  },
  {
   "cell_type": "markdown",
   "metadata": {},
   "source": [
    "## 上面是一个经典的策略模式设计\n",
    "- Order作为上下文，把一些计算委托给实现不同算法的可互换组件，提供服务，在本例中即具体将订单委托给不同的折扣算法计算折扣\n",
    "- Promotion的抽象类扮演策略，实现不同算法的组件共同的接口\n",
    "- FidelityPromo、BulkItemPromo、LargeOrderPromo即策略的具体子类"
   ]
  },
  {
   "cell_type": "markdown",
   "metadata": {},
   "source": [
    "\n",
    "## 在经典策略中，每个具体策略都是一个类且只有一个方法，而且没有状态属性，因此我们可以把具体策略直接替换成函数"
   ]
  },
  {
   "cell_type": "markdown",
   "metadata": {},
   "source": [
    "## 修改Order类中的self.promotion.discount(self)为self.promotion(self)\n",
    "- 同时我们传参时也不需要实例化一个具体折扣策略类的对象"
   ]
  },
  {
   "cell_type": "code",
   "execution_count": 66,
   "metadata": {},
   "outputs": [],
   "source": [
    "class Order_1:\n",
    "    \"\"\"\n",
    "        >>> joe = Customer('John Doe', 0) \n",
    "        >>> ann = Customer('Ann Smith', 1100)\n",
    "        >>> cart = [LineItem('banana', 4, .5),\n",
    "        ...         LineItem('apple', 10, 1.5),\n",
    "        ...         LineItem('watermellon', 5, 5.0)]\n",
    "        >>> Order_1(joe, cart, fidelity_promo) \n",
    "        <Order total: 42.00 due: 42.00>\n",
    "        >>> Order_1(ann, cart, fidelity_promo)\n",
    "        <Order total: 42.00 due: 39.90>\n",
    "        >>> banana_cart = [LineItem('banana', 30, .5),\n",
    "        ...                LineItem('apple', 10, 1.5)]\n",
    "        >>> Order_1(joe, banana_cart, bulk_item_promo)  \n",
    "        <Order total: 30.00 due: 28.50>\n",
    "        >>> long_order = [LineItem(str(item_code), 1, 1.0)\n",
    "        ...               for item_code in range(10)]\n",
    "        >>> Order_1(joe, long_order, large_order_promo)\n",
    "        <Order total: 10.00 due: 9.30>\n",
    "        >>> Order_1(joe, cart, large_order_promo)\n",
    "        <Order total: 42.00 due: 42.00>\n",
    "        >>> Order_1(joe, long_order, best_promo) \n",
    "        <Order total: 10.00 due: 9.30>\n",
    "        >>> Order_1(joe, banana_cart, best_promo)  \n",
    "        <Order total: 30.00 due: 28.50>\n",
    "        >>> Order_1(ann, cart, best_promo)  \n",
    "        <Order total: 42.00 due: 39.90>\n",
    "    \"\"\"\n",
    "\n",
    "    def __init__(self, customer, cart, promotion=None):\n",
    "        self.customer = customer\n",
    "        self.cart = list(cart)\n",
    "        self.promotion = promotion\n",
    "\n",
    "    def total(self):\n",
    "        if not hasattr(self, '__total'):\n",
    "            self.__total = sum(item.total() for item in self.cart)\n",
    "        return self.__total\n",
    "\n",
    "    def due(self):\n",
    "        if self.promotion is None:\n",
    "            discount = 0\n",
    "        else:\n",
    "            discount = self.promotion(self)\n",
    "        return self.total() - discount\n",
    "\n",
    "    def __repr__(self):\n",
    "        fmt = '<Order total: {:.2f} due: {:.2f}>'\n",
    "        return fmt.format(self.total(), self.due())"
   ]
  },
  {
   "cell_type": "markdown",
   "metadata": {},
   "source": [
    "## 将每一个具体策略类修改为策略函数"
   ]
  },
  {
   "cell_type": "code",
   "execution_count": 67,
   "metadata": {},
   "outputs": [],
   "source": [
    "def fidelity_promo(order):\n",
    "    return order.total() * .05 if order.customer.fidelity >= 1000 else 0"
   ]
  },
  {
   "cell_type": "code",
   "execution_count": 68,
   "metadata": {},
   "outputs": [],
   "source": [
    "def bulk_item_promo(order):\n",
    "    discount = 0\n",
    "    for item in order.cart:\n",
    "        if item.quantity >= 20:\n",
    "            discount += item.total() * .1\n",
    "    return discount"
   ]
  },
  {
   "cell_type": "code",
   "execution_count": 69,
   "metadata": {},
   "outputs": [],
   "source": [
    "def large_order_promo(order):\n",
    "    distinct_items = {item.product for item in order.cart}\n",
    "    if len(distinct_items) >= 10:\n",
    "        return order.total() * .07\n",
    "    return 0"
   ]
  },
  {
   "cell_type": "markdown",
   "metadata": {},
   "source": [
    "## 接下来重构，利用函数和模块均是对象的思想，实现元策略\n",
    "- 具体而言，我们希望实现一个函数，迭代一个函数列表，找出折扣额度最大的打折策略"
   ]
  },
  {
   "cell_type": "code",
   "execution_count": 70,
   "metadata": {},
   "outputs": [],
   "source": [
    "promos = [fidelity_promo, bulk_item_promo, large_order_promo]\n",
    "\n",
    "\n",
    "def best_promo(order):\n",
    "    \"\"\"Select best discount available\n",
    "    \"\"\"\n",
    "    return max(promo(order) for promo in promos)"
   ]
  },
  {
   "cell_type": "markdown",
   "metadata": {},
   "source": [
    "## 将函数视为一等对象，传参给函数能够方便实现元策略\n",
    "- 然而在出现新的折扣策略时，我们需要手动添加到promos列表中\n",
    "- 我们可以使用globals函数帮助best_promo自动查找其他的promo函数，只需修改promos列表为："
   ]
  },
  {
   "cell_type": "code",
   "execution_count": 73,
   "metadata": {},
   "outputs": [
    {
     "name": "stdout",
     "output_type": "stream",
     "text": [
      "[<function fidelity_promo at 0x0000012470213400>, <function bulk_item_promo at 0x0000012470213510>, <function large_order_promo at 0x00000124702132F0>]\n"
     ]
    }
   ],
   "source": [
    "promos = [\n",
    "    globals()[name] for name in globals()\n",
    "    if name.endswith('_promo') and name != 'best_promo'\n",
    "]\n",
    "print(promos)"
   ]
  },
  {
   "cell_type": "markdown",
   "metadata": {},
   "source": [
    "## 另外一种方式是进行函数内省 "
   ]
  },
  {
   "cell_type": "code",
   "execution_count": 80,
   "metadata": {},
   "outputs": [
    {
     "name": "stdout",
     "output_type": "stream",
     "text": [
      "[<function bulk_item_promo at 0x000001246EE54F28>, <function fidelity_promo at 0x000001246EE54B70>, <function large_order_promo at 0x000001246E972D08>]\n"
     ]
    }
   ],
   "source": [
    "promos = [\n",
    "    func for name, func in inspect.getmembers(promotions, inspect.isfunction)\n",
    "]\n",
    "print(promos)"
   ]
  },
  {
   "cell_type": "markdown",
   "metadata": {},
   "source": [
    "## doctest"
   ]
  },
  {
   "cell_type": "code",
   "execution_count": 81,
   "metadata": {},
   "outputs": [
    {
     "name": "stdout",
     "output_type": "stream",
     "text": [
      "Trying:\n",
      "    joe = Customer('John Doe', 0)  # <1>\n",
      "Expecting nothing\n",
      "ok\n",
      "Trying:\n",
      "    ann = Customer('Ann Smith', 1100)\n",
      "Expecting nothing\n",
      "ok\n",
      "Trying:\n",
      "    cart = [LineItem('banana', 4, .5),  # <2>\n",
      "            LineItem('apple', 10, 1.5),\n",
      "            LineItem('watermellon', 5, 5.0)]\n",
      "Expecting nothing\n",
      "ok\n",
      "Trying:\n",
      "    Order(joe, cart, FidelityPromo())  # <3>\n",
      "Expecting:\n",
      "    <Order total: 42.00 due: 42.00>\n",
      "ok\n",
      "Trying:\n",
      "    Order(ann, cart, FidelityPromo())  # <4>\n",
      "Expecting:\n",
      "    <Order total: 42.00 due: 39.90>\n",
      "ok\n",
      "Trying:\n",
      "    banana_cart = [LineItem('banana', 30, .5),  # <5>\n",
      "                   LineItem('apple', 10, 1.5)]\n",
      "Expecting nothing\n",
      "ok\n",
      "Trying:\n",
      "    Order(joe, banana_cart, BulkItemPromo())  # <6>\n",
      "Expecting:\n",
      "    <Order total: 30.00 due: 28.50>\n",
      "ok\n",
      "Trying:\n",
      "    long_order = [LineItem(str(item_code), 1, 1.0) # <7>\n",
      "                  for item_code in range(10)]\n",
      "Expecting nothing\n",
      "ok\n",
      "Trying:\n",
      "    Order(joe, long_order, LargeOrderPromo())  # <8>\n",
      "Expecting:\n",
      "    <Order total: 10.00 due: 9.30>\n",
      "ok\n",
      "Trying:\n",
      "    Order(joe, cart, LargeOrderPromo())\n",
      "Expecting:\n",
      "    <Order total: 42.00 due: 42.00>\n",
      "ok\n",
      "Trying:\n",
      "    joe = Customer('John Doe', 0)  # <1>\n",
      "Expecting nothing\n",
      "ok\n",
      "Trying:\n",
      "    ann = Customer('Ann Smith', 1100)\n",
      "Expecting nothing\n",
      "ok\n",
      "Trying:\n",
      "    cart = [LineItem('banana', 4, .5),\n",
      "            LineItem('apple', 10, 1.5),\n",
      "            LineItem('watermellon', 5, 5.0)]\n",
      "Expecting nothing\n",
      "ok\n",
      "Trying:\n",
      "    Order_1(joe, cart, fidelity_promo)  # <2>\n",
      "Expecting:\n",
      "    <Order total: 42.00 due: 42.00>\n",
      "ok\n",
      "Trying:\n",
      "    Order_1(ann, cart, fidelity_promo)\n",
      "Expecting:\n",
      "    <Order total: 42.00 due: 39.90>\n",
      "ok\n",
      "Trying:\n",
      "    banana_cart = [LineItem('banana', 30, .5),\n",
      "                   LineItem('apple', 10, 1.5)]\n",
      "Expecting nothing\n",
      "ok\n",
      "Trying:\n",
      "    Order_1(joe, banana_cart, bulk_item_promo)  # <3>\n",
      "Expecting:\n",
      "    <Order total: 30.00 due: 28.50>\n",
      "ok\n",
      "Trying:\n",
      "    long_order = [LineItem(str(item_code), 1, 1.0)\n",
      "                  for item_code in range(10)]\n",
      "Expecting nothing\n",
      "ok\n",
      "Trying:\n",
      "    Order_1(joe, long_order, large_order_promo)\n",
      "Expecting:\n",
      "    <Order total: 10.00 due: 9.30>\n",
      "ok\n",
      "Trying:\n",
      "    Order_1(joe, cart, large_order_promo)\n",
      "Expecting:\n",
      "    <Order total: 42.00 due: 42.00>\n",
      "ok\n",
      "Trying:\n",
      "    Order_1(joe, long_order, best_promo) \n",
      "Expecting:\n",
      "    <Order total: 10.00 due: 9.30>\n",
      "ok\n",
      "Trying:\n",
      "    Order_1(joe, banana_cart, best_promo)  \n",
      "Expecting:\n",
      "    <Order total: 30.00 due: 28.50>\n",
      "ok\n",
      "Trying:\n",
      "    Order_1(ann, cart, best_promo)  \n",
      "Expecting:\n",
      "    <Order total: 42.00 due: 39.90>\n",
      "ok\n",
      "25 items had no tests:\n",
      "    __main__\n",
      "    __main__.BulkItemPromo\n",
      "    __main__.BulkItemPromo.discount\n",
      "    __main__.Customer\n",
      "    __main__.Customer.fidelity\n",
      "    __main__.Customer.name\n",
      "    __main__.FidelityPromo\n",
      "    __main__.FidelityPromo.discount\n",
      "    __main__.LargeOrderPromo\n",
      "    __main__.LargeOrderPromo.discount\n",
      "    __main__.LineItem\n",
      "    __main__.LineItem.__init__\n",
      "    __main__.LineItem.total\n",
      "    __main__.Order.__init__\n",
      "    __main__.Order.__repr__\n",
      "    __main__.Order.due\n",
      "    __main__.Order.total\n",
      "    __main__.Order_1.__init__\n",
      "    __main__.Order_1.__repr__\n",
      "    __main__.Order_1.due\n",
      "    __main__.Order_1.total\n",
      "    __main__.Promotion\n",
      "    __main__.Promotion.discount\n",
      "    __main__.best_promo\n",
      "    __main__.yapf_reformat\n",
      "2 items passed all tests:\n",
      "  10 tests in __main__.Order\n",
      "  13 tests in __main__.Order_1\n",
      "23 tests in 27 items.\n",
      "23 passed and 0 failed.\n",
      "Test passed.\n"
     ]
    },
    {
     "data": {
      "text/plain": [
       "TestResults(failed=0, attempted=23)"
      ]
     },
     "execution_count": 81,
     "metadata": {},
     "output_type": "execute_result"
    }
   ],
   "source": [
    "doctest.testmod(verbose=True)"
   ]
  }
 ],
 "metadata": {
  "kernelspec": {
   "display_name": "Python 3",
   "language": "python",
   "name": "python3"
  },
  "language_info": {
   "codemirror_mode": {
    "name": "ipython",
    "version": 3
   },
   "file_extension": ".py",
   "mimetype": "text/x-python",
   "name": "python",
   "nbconvert_exporter": "python",
   "pygments_lexer": "ipython3",
   "version": "3.7.1"
  },
  "latex_envs": {
   "LaTeX_envs_menu_present": true,
   "autoclose": false,
   "autocomplete": true,
   "bibliofile": "biblio.bib",
   "cite_by": "apalike",
   "current_citInitial": 1,
   "eqLabelWithNumbers": true,
   "eqNumInitial": 1,
   "hotkeys": {
    "equation": "Ctrl-E",
    "itemize": "Ctrl-I"
   },
   "labels_anchors": false,
   "latex_user_defs": false,
   "report_style_numbering": false,
   "user_envs_cfg": false
  }
 },
 "nbformat": 4,
 "nbformat_minor": 2
}
