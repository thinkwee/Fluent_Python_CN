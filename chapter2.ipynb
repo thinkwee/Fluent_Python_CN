{
 "cells": [
  {
   "cell_type": "code",
   "execution_count": 1,
   "metadata": {},
   "outputs": [],
   "source": [
    "from collections import namedtuple\n",
    "import bisect\n",
    "import random\n",
    "from array import array\n",
    "from collections import deque"
   ]
  },
  {
   "cell_type": "code",
   "execution_count": 2,
   "metadata": {},
   "outputs": [
    {
     "data": {
      "text/plain": [
       "'\\nintroduce:\\n    list comprehension\\n    generator expression\\n    tuple\\n    slice\\n    list.sort&sorted\\n    bisect\\n    array\\n    deque\\n'"
      ]
     },
     "execution_count": 2,
     "metadata": {},
     "output_type": "execute_result"
    }
   ],
   "source": [
    "'''\n",
    "introduce:\n",
    "    list comprehension\n",
    "    generator expression\n",
    "    tuple\n",
    "    slice\n",
    "    list.sort&sorted\n",
    "    bisect\n",
    "    array\n",
    "    deque\n",
    "'''"
   ]
  },
  {
   "cell_type": "markdown",
   "metadata": {},
   "source": [
    "## generator expression"
   ]
  },
  {
   "cell_type": "code",
   "execution_count": 5,
   "metadata": {},
   "outputs": [
    {
     "name": "stdout",
     "output_type": "stream",
     "text": [
      "black s\n",
      "black m\n",
      "black l\n",
      "white s\n",
      "white m\n",
      "white l\n"
     ]
    }
   ],
   "source": [
    "colors = ['black', 'white']\n",
    "sizes = ['s', 'm', 'l']\n",
    "for tshirt in ('%s %s' % (c, s) for c in colors for s in sizes):\n",
    "    print(tshirt)"
   ]
  },
  {
   "cell_type": "markdown",
   "metadata": {},
   "source": [
    "## tuple unstack"
   ]
  },
  {
   "cell_type": "code",
   "execution_count": 6,
   "metadata": {},
   "outputs": [
    {
     "name": "stdout",
     "output_type": "stream",
     "text": [
      "(2, 4)\n"
     ]
    }
   ],
   "source": [
    "print(divmod(20, 8))"
   ]
  },
  {
   "cell_type": "code",
   "execution_count": 7,
   "metadata": {},
   "outputs": [
    {
     "name": "stdout",
     "output_type": "stream",
     "text": [
      "(2, 4)\n"
     ]
    }
   ],
   "source": [
    "t = (20, 8)\n",
    "print(divmod(*t))"
   ]
  },
  {
   "cell_type": "code",
   "execution_count": 8,
   "metadata": {},
   "outputs": [
    {
     "name": "stdout",
     "output_type": "stream",
     "text": [
      "0 1 [2, 3, 4]\n"
     ]
    }
   ],
   "source": [
    "a, b, *rest = range(5)\n",
    "print(a, b, rest)"
   ]
  },
  {
   "cell_type": "code",
   "execution_count": 9,
   "metadata": {},
   "outputs": [
    {
     "name": "stdout",
     "output_type": "stream",
     "text": [
      "tokyo           |   35.6890 |  139.6910\n",
      "sao paulo       |  -23.5470 |  -46.6350\n"
     ]
    }
   ],
   "source": [
    "metro_ares = [\n",
    "    ('tokyo', 'jp', 36.933, (35.689, 139.691)),\n",
    "    ('sao paulo', 'br', 19.649, (-23.547, -46.635)),\n",
    "]\n",
    "\n",
    "for name, cc, pop, (latitude, longtitude) in metro_ares:\n",
    "    print('{:15} | {:9.4f} | {:9.4f}'.format(name, latitude, longtitude))"
   ]
  },
  {
   "cell_type": "code",
   "execution_count": 10,
   "metadata": {},
   "outputs": [
    {
     "name": "stdout",
     "output_type": "stream",
     "text": [
      "tokyo           |   35.6890 |  139.6910\n",
      "sao paulo       |  -23.5470 |  -46.6350\n"
     ]
    }
   ],
   "source": [
    "for name, cc, pop, (latitude, longtitude) in metro_ares:\n",
    "    print('{:15} | {:9.4f} | {:9.4f}'.format(name, latitude, longtitude))"
   ]
  },
  {
   "cell_type": "markdown",
   "metadata": {},
   "source": [
    "## named tuple"
   ]
  },
  {
   "cell_type": "code",
   "execution_count": 11,
   "metadata": {},
   "outputs": [
    {
     "name": "stdout",
     "output_type": "stream",
     "text": [
      "City(name='Tokyo', country='jp', population=36, coordinates=(35.689, 139.691))\n",
      "(35.689, 139.691)\n",
      "('name', 'country', 'population', 'coordinates')\n",
      "OrderedDict([('name', 'Tokyo'), ('country', 'jp'), ('population', 36), ('coordinates', (35.689, 139.691))])\n"
     ]
    }
   ],
   "source": [
    "City = namedtuple('City', 'name country population coordinates')\n",
    "tokyo = City('Tokyo', 'jp', 36, (35.689, 139.691))\n",
    "print(tokyo)\n",
    "print(tokyo.coordinates)\n",
    "print(City._fields)\n",
    "print(tokyo._asdict())"
   ]
  },
  {
   "cell_type": "markdown",
   "metadata": {},
   "source": [
    "-    tuple as fixed list\n",
    "-    tuple can not add/eliminate element\n",
    "-    tuple can not reverse"
   ]
  },
  {
   "cell_type": "markdown",
   "metadata": {},
   "source": [
    "## slice on object"
   ]
  },
  {
   "cell_type": "code",
   "execution_count": 12,
   "metadata": {},
   "outputs": [
    {
     "name": "stdout",
     "output_type": "stream",
     "text": [
      "richard  98\n",
      "liu      97\n",
      "xiaoming 90\n"
     ]
    }
   ],
   "source": [
    "file = open('chap2.txt')\n",
    "text = file.read()\n",
    "name = slice(0, 8)\n",
    "num = slice(10, 12)\n",
    "line_item = text.split('\\n')[:]\n",
    "for item in line_item:\n",
    "    print(item[name], item[num])"
   ]
  },
  {
   "cell_type": "markdown",
   "metadata": {},
   "source": [
    "## other slice operations"
   ]
  },
  {
   "cell_type": "code",
   "execution_count": 13,
   "metadata": {},
   "outputs": [
    {
     "name": "stdout",
     "output_type": "stream",
     "text": [
      "[0, 100, 6, 7, 8, 9]\n",
      "[0, 100, 6, 7, 8, 9, 0, 100, 6, 7, 8, 9]\n"
     ]
    }
   ],
   "source": [
    "test = list(range(10))\n",
    "test[1:6] = [100]\n",
    "print(test)\n",
    "print(test * 2)"
   ]
  },
  {
   "cell_type": "markdown",
   "metadata": {},
   "source": [
    "## wrong way to initiate a list in list"
   ]
  },
  {
   "cell_type": "code",
   "execution_count": 14,
   "metadata": {},
   "outputs": [
    {
     "name": "stdout",
     "output_type": "stream",
     "text": [
      "[[0, 0, 0], [0, 0, 0], [0, 0, 0]]\n"
     ]
    }
   ],
   "source": [
    "board = [[0] * 3] * 3\n",
    "print(board)"
   ]
  },
  {
   "cell_type": "markdown",
   "metadata": {},
   "source": [
    "## right way"
   ]
  },
  {
   "cell_type": "code",
   "execution_count": 15,
   "metadata": {},
   "outputs": [
    {
     "name": "stdout",
     "output_type": "stream",
     "text": [
      "[[0, 0, 0], [0, 0, 0], [0, 0, 0]]\n"
     ]
    }
   ],
   "source": [
    "board = [[0] * 3 for i in range(3)]\n",
    "print(board)"
   ]
  },
  {
   "cell_type": "markdown",
   "metadata": {},
   "source": [
    "## increment on slice\n",
    "increment will create a new object if it operate on immutable object"
   ]
  },
  {
   "cell_type": "code",
   "execution_count": 16,
   "metadata": {},
   "outputs": [
    {
     "name": "stdout",
     "output_type": "stream",
     "text": [
      "140563362708288\n",
      "140563532569768\n"
     ]
    }
   ],
   "source": [
    "t = (1, 2, 3)\n",
    "print(id(t))\n",
    "t *= 2\n",
    "print(id(t))"
   ]
  },
  {
   "cell_type": "markdown",
   "metadata": {},
   "source": [
    "## list.sort returns none,cause it is sorted locally(do not create a new object)"
   ]
  },
  {
   "cell_type": "code",
   "execution_count": 17,
   "metadata": {},
   "outputs": [
    {
     "name": "stdout",
     "output_type": "stream",
     "text": [
      "['apple', 'banana', 'grape', 'raspberry']\n",
      "['raspberry', 'grape', 'banana', 'apple']\n",
      "['grape', 'apple', 'banana', 'raspberry']\n",
      "['apple', 'banana', 'grape', 'raspberry']\n"
     ]
    }
   ],
   "source": [
    "fruits = ['grape', 'raspberry', 'apple', 'banana']\n",
    "print(sorted(fruits))\n",
    "print(sorted(fruits, reverse=True))\n",
    "print(sorted(fruits, key=len))\n",
    "fruits.sort()\n",
    "print(fruits)"
   ]
  },
  {
   "cell_type": "markdown",
   "metadata": {},
   "source": [
    "## bisect(haystack,needle) divide haystack into pieces based on the needles"
   ]
  },
  {
   "cell_type": "code",
   "execution_count": 18,
   "metadata": {},
   "outputs": [
    {
     "name": "stdout",
     "output_type": "stream",
     "text": [
      "['F', 'A', 'C', 'C', 'B', 'A', 'A']\n"
     ]
    }
   ],
   "source": [
    "def grade(score, breakpoints=[60, 70, 80, 90], grade='FDCBA'):\n",
    "    i = bisect.bisect(breakpoints, score)\n",
    "    return grade[i]\n",
    "\n",
    "\n",
    "print([grade(score) for score in [33, 99, 77, 70, 89, 98, 100]])"
   ]
  },
  {
   "cell_type": "markdown",
   "metadata": {},
   "source": [
    "## use bisect.insort to assure the sorted list is still sortable after insertion"
   ]
  },
  {
   "cell_type": "code",
   "execution_count": 19,
   "metadata": {},
   "outputs": [
    {
     "name": "stdout",
     "output_type": "stream",
     "text": [
      "0.9571801768273447\n",
      "0.9571801768273447\n"
     ]
    }
   ],
   "source": [
    "floats = array('d', (random.random() for _ in range(10 ** 3)))\n",
    "print(floats[1])\n",
    "fp = open('floats.bin', 'wb')\n",
    "floats.tofile(fp)\n",
    "fp.close()\n",
    "floats2 = array('d')\n",
    "fp = open('floats.bin', 'rb')\n",
    "floats2.fromfile(fp, 10 ** 3)\n",
    "fp.close()\n",
    "print(floats2[1])"
   ]
  },
  {
   "cell_type": "markdown",
   "metadata": {},
   "source": [
    "## use deque to safely add and delete elements on both ends of a list"
   ]
  },
  {
   "cell_type": "code",
   "execution_count": 20,
   "metadata": {},
   "outputs": [
    {
     "name": "stdout",
     "output_type": "stream",
     "text": [
      "deque([0, 1, 2, 3, 4, 5, 6, 7, 8, 9], maxlen=10)\n",
      "deque([7, 8, 9, 0, 1, 2, 3, 4, 5, 6], maxlen=10)\n",
      "deque([-100, 7, 8, 9, 0, 1, 2, 3, 4, 5], maxlen=10)\n",
      "deque([9, 0, 1, 2, 3, 4, 5, 10, 20, 30], maxlen=10)\n",
      "deque([-3, -2, -1, 9, 0, 1, 2, 3, 4, 5], maxlen=10)\n"
     ]
    }
   ],
   "source": [
    "dq = deque(range(10), maxlen=10)\n",
    "print(dq)\n",
    "dq.rotate(3)\n",
    "print(dq)\n",
    "dq.appendleft(-100)\n",
    "print(dq)\n",
    "dq.extend([10, 20, 30])\n",
    "print(dq)\n",
    "dq.extendleft([-1, -2, -3])\n",
    "print(dq)"
   ]
  }
 ],
 "metadata": {
  "kernelspec": {
   "display_name": "Python 3",
   "language": "python",
   "name": "python3"
  },
  "language_info": {
   "codemirror_mode": {
    "name": "ipython",
    "version": 3
   },
   "file_extension": ".py",
   "mimetype": "text/x-python",
   "name": "python",
   "nbconvert_exporter": "python",
   "pygments_lexer": "ipython3",
   "version": "3.6.4"
  }
 },
 "nbformat": 4,
 "nbformat_minor": 2
}
